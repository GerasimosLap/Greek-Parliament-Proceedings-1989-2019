{
 "cells": [
  {
   "cell_type": "markdown",
   "metadata": {},
   "source": [
    "<h1> Lapakis Gerasimos - P3170089 - ICAD ASSIGNMENT 3: Greek Parliament Proceedings 1989-2019</h1>"
   ]
  },
  {
   "cell_type": "markdown",
   "metadata": {},
   "source": [
    "**Note: This file uses relative file paths, so all files must be included in the same directory as this ipynb.**"
   ]
  },
  {
   "cell_type": "code",
   "execution_count": 1,
   "metadata": {},
   "outputs": [],
   "source": [
    "import pandas as pd\n",
    "import numpy as np\n",
    "import matplotlib\n",
    "import matplotlib.pyplot as plt\n",
    "import statsmodels.formula.api as smf\n",
    "import scipy.stats.stats as stats\n",
    "import string\n",
    "import datetime\n",
    "\n",
    "import spacy\n",
    "from spacy.lang.el.stop_words import STOP_WORDS\n",
    "\n",
    "from sklearn.dummy import DummyClassifier\n",
    "from sklearn.linear_model import SGDClassifier\n",
    "from sklearn.feature_extraction.text import TfidfVectorizer\n",
    "from sklearn.svm import LinearSVC\n",
    "from sklearn.pipeline import Pipeline\n",
    "from sklearn.model_selection import train_test_split\n",
    "from sklearn.metrics import classification_report\n",
    "from sklearn.feature_extraction.text import TfidfTransformer\n",
    "from sklearn.naive_bayes import MultinomialNB\n",
    "from sklearn.model_selection import GridSearchCV\n",
    "from sklearn.model_selection import cross_val_score\n",
    "\n",
    "import tensorflow as tf\n",
    "from tensorflow.keras import Model, Sequential\n",
    "from tensorflow.keras.layers import Activation, Softmax, Dense, Embedding, LSTM, Bidirectional, GRU, Dropout\n",
    "from tensorflow.keras.layers.experimental.preprocessing import TextVectorization\n",
    "from tensorflow.keras.callbacks import ModelCheckpoint, EarlyStopping\n",
    "from tensorflow.keras.preprocessing.sequence import pad_sequences\n",
    "from tensorflow.keras.utils import to_categorical\n",
    "\n",
    "%matplotlib inline\n",
    "matplotlib.style.use('ggplot')\n",
    "pd.set_option('display.max_columns', None)"
   ]
  },
  {
   "cell_type": "code",
   "execution_count": 2,
   "metadata": {},
   "outputs": [],
   "source": [
    "proceedings = pd.read_csv('Greek_Parliament_Proceedings_1989_2019.csv', encoding='utf-8', parse_dates=['sitting_date'])"
   ]
  },
  {
   "cell_type": "markdown",
   "metadata": {},
   "source": [
    "Deleting NaN values."
   ]
  },
  {
   "cell_type": "code",
   "execution_count": 3,
   "metadata": {},
   "outputs": [],
   "source": [
    "proceedings = proceedings[proceedings['speech'].notna()]"
   ]
  },
  {
   "cell_type": "code",
   "execution_count": 4,
   "metadata": {},
   "outputs": [],
   "source": [
    "proceedings = proceedings[proceedings['political_party'].notna()]"
   ]
  },
  {
   "cell_type": "markdown",
   "metadata": {},
   "source": [
    "We will keep half of the dataset, preoceedings from 2004 to 2019."
   ]
  },
  {
   "cell_type": "code",
   "execution_count": 5,
   "metadata": {},
   "outputs": [],
   "source": [
    "proceedings = proceedings[(proceedings['sitting_date'].dt.date >= datetime.date(year=2004,month=1,day=1))]"
   ]
  },
  {
   "cell_type": "markdown",
   "metadata": {},
   "source": [
    "Speeches Per Party"
   ]
  },
  {
   "cell_type": "code",
   "execution_count": 6,
   "metadata": {},
   "outputs": [
    {
     "data": {
      "text/html": [
       "<div>\n",
       "<style scoped>\n",
       "    .dataframe tbody tr th:only-of-type {\n",
       "        vertical-align: middle;\n",
       "    }\n",
       "\n",
       "    .dataframe tbody tr th {\n",
       "        vertical-align: top;\n",
       "    }\n",
       "\n",
       "    .dataframe thead th {\n",
       "        text-align: right;\n",
       "    }\n",
       "</style>\n",
       "<table border=\"1\" class=\"dataframe\">\n",
       "  <thead>\n",
       "    <tr style=\"text-align: right;\">\n",
       "      <th></th>\n",
       "      <th>speech</th>\n",
       "    </tr>\n",
       "    <tr>\n",
       "      <th>political_party</th>\n",
       "      <th></th>\n",
       "    </tr>\n",
       "  </thead>\n",
       "  <tbody>\n",
       "    <tr>\n",
       "      <th>νεα δημοκρατια</th>\n",
       "      <td>226352</td>\n",
       "    </tr>\n",
       "    <tr>\n",
       "      <th>πανελληνιο σοσιαλιστικο κινημα</th>\n",
       "      <td>131373</td>\n",
       "    </tr>\n",
       "    <tr>\n",
       "      <th>συνασπισμος ριζοσπαστικης αριστερας</th>\n",
       "      <td>126572</td>\n",
       "    </tr>\n",
       "    <tr>\n",
       "      <th>κομμουνιστικο κομμα ελλαδας</th>\n",
       "      <td>59024</td>\n",
       "    </tr>\n",
       "    <tr>\n",
       "      <th>βουλη</th>\n",
       "      <td>27821</td>\n",
       "    </tr>\n",
       "    <tr>\n",
       "      <th>ανεξαρτητοι (εκτος κομματος)</th>\n",
       "      <td>26051</td>\n",
       "    </tr>\n",
       "    <tr>\n",
       "      <th>λαικος ορθοδοξος συναγερμος</th>\n",
       "      <td>23639</td>\n",
       "    </tr>\n",
       "    <tr>\n",
       "      <th>δημοκρατικη συμπαραταξη (πανελληνιο σοσιαλιστικο κινημα - δημοκρατικη αριστερα)</th>\n",
       "      <td>22991</td>\n",
       "    </tr>\n",
       "    <tr>\n",
       "      <th>λαικος συνδεσος - χρυση αυγη</th>\n",
       "      <td>14172</td>\n",
       "    </tr>\n",
       "    <tr>\n",
       "      <th>ανεξαρτητοι ελληνες - πανος καμμενος</th>\n",
       "      <td>13785</td>\n",
       "    </tr>\n",
       "    <tr>\n",
       "      <th>ενωση κεντρωων</th>\n",
       "      <td>9888</td>\n",
       "    </tr>\n",
       "    <tr>\n",
       "      <th>το ποταμι</th>\n",
       "      <td>7672</td>\n",
       "    </tr>\n",
       "    <tr>\n",
       "      <th>ανεξαρτητοι ελληνες εθνικη πατριωτικη δημοκρατικη συμμαχια</th>\n",
       "      <td>5521</td>\n",
       "    </tr>\n",
       "    <tr>\n",
       "      <th>δημοκρατικη αριστερα</th>\n",
       "      <td>4204</td>\n",
       "    </tr>\n",
       "    <tr>\n",
       "      <th>ανεξαρτητοι δημοκρατικοι βουλευτες</th>\n",
       "      <td>1769</td>\n",
       "    </tr>\n",
       "    <tr>\n",
       "      <th>συνασπισμος της αριστερας των κινηματων και της οικολογιας</th>\n",
       "      <td>356</td>\n",
       "    </tr>\n",
       "    <tr>\n",
       "      <th>λαικη ενοτητα</th>\n",
       "      <td>346</td>\n",
       "    </tr>\n",
       "    <tr>\n",
       "      <th>αντιπολιτευση</th>\n",
       "      <td>1</td>\n",
       "    </tr>\n",
       "  </tbody>\n",
       "</table>\n",
       "</div>"
      ],
      "text/plain": [
       "                                                    speech\n",
       "political_party                                           \n",
       "νεα δημοκρατια                                      226352\n",
       "πανελληνιο σοσιαλιστικο κινημα                      131373\n",
       "συνασπισμος ριζοσπαστικης αριστερας                 126572\n",
       "κομμουνιστικο κομμα ελλαδας                          59024\n",
       "βουλη                                                27821\n",
       "ανεξαρτητοι (εκτος κομματος)                         26051\n",
       "λαικος ορθοδοξος συναγερμος                          23639\n",
       "δημοκρατικη συμπαραταξη (πανελληνιο σοσιαλιστικ...   22991\n",
       "λαικος συνδεσος - χρυση αυγη                         14172\n",
       "ανεξαρτητοι ελληνες - πανος καμμενος                 13785\n",
       "ενωση κεντρωων                                        9888\n",
       "το ποταμι                                             7672\n",
       "ανεξαρτητοι ελληνες εθνικη πατριωτικη δημοκρατι...    5521\n",
       "δημοκρατικη αριστερα                                  4204\n",
       "ανεξαρτητοι δημοκρατικοι βουλευτες                    1769\n",
       "συνασπισμος της αριστερας των κινηματων και της...     356\n",
       "λαικη ενοτητα                                          346\n",
       "αντιπολιτευση                                            1"
      ]
     },
     "execution_count": 6,
     "metadata": {},
     "output_type": "execute_result"
    }
   ],
   "source": [
    "SpeechesPerParty = proceedings.groupby('political_party').count().sort_values(by='speech', ascending=False)\n",
    "SpeechesPerParty[['speech']]"
   ]
  },
  {
   "cell_type": "code",
   "execution_count": 7,
   "metadata": {},
   "outputs": [
    {
     "data": {
      "text/html": [
       "<div>\n",
       "<style scoped>\n",
       "    .dataframe tbody tr th:only-of-type {\n",
       "        vertical-align: middle;\n",
       "    }\n",
       "\n",
       "    .dataframe tbody tr th {\n",
       "        vertical-align: top;\n",
       "    }\n",
       "\n",
       "    .dataframe thead th {\n",
       "        text-align: right;\n",
       "    }\n",
       "</style>\n",
       "<table border=\"1\" class=\"dataframe\">\n",
       "  <thead>\n",
       "    <tr style=\"text-align: right;\">\n",
       "      <th></th>\n",
       "      <th>member_name</th>\n",
       "      <th>sitting_date</th>\n",
       "      <th>parliamentary_period</th>\n",
       "      <th>parliamentary_session</th>\n",
       "      <th>parliamentary_sitting</th>\n",
       "      <th>political_party</th>\n",
       "      <th>speaker_info</th>\n",
       "      <th>speech</th>\n",
       "    </tr>\n",
       "  </thead>\n",
       "  <tbody>\n",
       "    <tr>\n",
       "      <th>492726</th>\n",
       "      <td>τζεκης κωνσταντινου αγγελος</td>\n",
       "      <td>2004-01-07</td>\n",
       "      <td>period 10 presided parliamentary republic</td>\n",
       "      <td>session 4</td>\n",
       "      <td>sitting 55</td>\n",
       "      <td>κομμουνιστικο κομμα ελλαδας</td>\n",
       "      <td>NaN</td>\n",
       "      <td>Σε δύο ενότητες πότε, κύριε Υπουργέ; Σήμερα;</td>\n",
       "    </tr>\n",
       "    <tr>\n",
       "      <th>492727</th>\n",
       "      <td>σγουριδης σγουρη παναγιωτης</td>\n",
       "      <td>2004-01-07</td>\n",
       "      <td>period 10 presided parliamentary republic</td>\n",
       "      <td>session 4</td>\n",
       "      <td>sitting 55</td>\n",
       "      <td>πανελληνιο σοσιαλιστικο κινημα</td>\n",
       "      <td>προεδρευων</td>\n",
       "      <td>Τη μια ενότητα σήμερα και τη δεύτερη αύριο μα...</td>\n",
       "    </tr>\n",
       "    <tr>\n",
       "      <th>492728</th>\n",
       "      <td>τζεκης κωνσταντινου αγγελος</td>\n",
       "      <td>2004-01-07</td>\n",
       "      <td>period 10 presided parliamentary republic</td>\n",
       "      <td>session 4</td>\n",
       "      <td>sitting 55</td>\n",
       "      <td>κομμουνιστικο κομμα ελλαδας</td>\n",
       "      <td>NaN</td>\n",
       "      <td>Πάρτε υπόψη σας, κύριε Πρόεδρε, ότι είναι και...</td>\n",
       "    </tr>\n",
       "    <tr>\n",
       "      <th>492729</th>\n",
       "      <td>σγουριδης σγουρη παναγιωτης</td>\n",
       "      <td>2004-01-07</td>\n",
       "      <td>period 10 presided parliamentary republic</td>\n",
       "      <td>session 4</td>\n",
       "      <td>sitting 55</td>\n",
       "      <td>πανελληνιο σοσιαλιστικο κινημα</td>\n",
       "      <td>προεδρευων</td>\n",
       "      <td>Ορίστε, κύριε Βλαχόπουλε, έχετε το λόγο.</td>\n",
       "    </tr>\n",
       "    <tr>\n",
       "      <th>492730</th>\n",
       "      <td>βλαχοπουλος δημητριου ηλιας</td>\n",
       "      <td>2004-01-07</td>\n",
       "      <td>period 10 presided parliamentary republic</td>\n",
       "      <td>session 4</td>\n",
       "      <td>sitting 55</td>\n",
       "      <td>πανελληνιο σοσιαλιστικο κινημα</td>\n",
       "      <td>NaN</td>\n",
       "      <td>Κύριε Πρόεδρε και εγώ συμφωνώ με την πρότασή ...</td>\n",
       "    </tr>\n",
       "    <tr>\n",
       "      <th>...</th>\n",
       "      <td>...</td>\n",
       "      <td>...</td>\n",
       "      <td>...</td>\n",
       "      <td>...</td>\n",
       "      <td>...</td>\n",
       "      <td>...</td>\n",
       "      <td>...</td>\n",
       "      <td>...</td>\n",
       "    </tr>\n",
       "    <tr>\n",
       "      <th>1194402</th>\n",
       "      <td>συντυχακης δανιηλ εμμανουηλ</td>\n",
       "      <td>2019-02-22</td>\n",
       "      <td>period 17 presided parliamentary republic</td>\n",
       "      <td>session 4</td>\n",
       "      <td>sitting 82</td>\n",
       "      <td>κομμουνιστικο κομμα ελλαδας</td>\n",
       "      <td>NaN</td>\n",
       "      <td>Κύριε Πρόεδρε, οι καταστροφές προφανώς δεν ήτ...</td>\n",
       "    </tr>\n",
       "    <tr>\n",
       "      <th>1194403</th>\n",
       "      <td>κακλαμανης μιχαηλ νικητας</td>\n",
       "      <td>2019-02-22</td>\n",
       "      <td>period 17 presided parliamentary republic</td>\n",
       "      <td>session 4</td>\n",
       "      <td>sitting 82</td>\n",
       "      <td>νεα δημοκρατια</td>\n",
       "      <td>προεδρευων</td>\n",
       "      <td>Ορίστε, κύριε Υπουργέ, έχετε τον λόγο.</td>\n",
       "    </tr>\n",
       "    <tr>\n",
       "      <th>1194404</th>\n",
       "      <td>κακλαμανης μιχαηλ νικητας</td>\n",
       "      <td>2019-02-22</td>\n",
       "      <td>period 17 presided parliamentary republic</td>\n",
       "      <td>session 4</td>\n",
       "      <td>sitting 82</td>\n",
       "      <td>νεα δημοκρατια</td>\n",
       "      <td>προεδρευων</td>\n",
       "      <td>Αρκεί και το κεντρικό κράτος, κύριε Υπουργέ, ...</td>\n",
       "    </tr>\n",
       "    <tr>\n",
       "      <th>1194405</th>\n",
       "      <td>NaN</td>\n",
       "      <td>2019-02-22</td>\n",
       "      <td>period 17 presided parliamentary republic</td>\n",
       "      <td>session 4</td>\n",
       "      <td>sitting 82</td>\n",
       "      <td>βουλη</td>\n",
       "      <td>βουλευτης/ες</td>\n",
       "      <td>Μάλιστα, μάλιστα.</td>\n",
       "    </tr>\n",
       "    <tr>\n",
       "      <th>1194406</th>\n",
       "      <td>κακλαμανης μιχαηλ νικητας</td>\n",
       "      <td>2019-02-22</td>\n",
       "      <td>period 17 presided parliamentary republic</td>\n",
       "      <td>session 4</td>\n",
       "      <td>sitting 82</td>\n",
       "      <td>νεα δημοκρατια</td>\n",
       "      <td>προεδρευων</td>\n",
       "      <td>Με τη συναίνεση του Σώματος και ώρα 11.25΄ λύ...</td>\n",
       "    </tr>\n",
       "  </tbody>\n",
       "</table>\n",
       "<p>701537 rows × 8 columns</p>\n",
       "</div>"
      ],
      "text/plain": [
       "                         member_name sitting_date  \\\n",
       "492726   τζεκης κωνσταντινου αγγελος   2004-01-07   \n",
       "492727   σγουριδης σγουρη παναγιωτης   2004-01-07   \n",
       "492728   τζεκης κωνσταντινου αγγελος   2004-01-07   \n",
       "492729   σγουριδης σγουρη παναγιωτης   2004-01-07   \n",
       "492730   βλαχοπουλος δημητριου ηλιας   2004-01-07   \n",
       "...                              ...          ...   \n",
       "1194402  συντυχακης δανιηλ εμμανουηλ   2019-02-22   \n",
       "1194403    κακλαμανης μιχαηλ νικητας   2019-02-22   \n",
       "1194404    κακλαμανης μιχαηλ νικητας   2019-02-22   \n",
       "1194405                          NaN   2019-02-22   \n",
       "1194406    κακλαμανης μιχαηλ νικητας   2019-02-22   \n",
       "\n",
       "                              parliamentary_period parliamentary_session  \\\n",
       "492726   period 10 presided parliamentary republic             session 4   \n",
       "492727   period 10 presided parliamentary republic             session 4   \n",
       "492728   period 10 presided parliamentary republic             session 4   \n",
       "492729   period 10 presided parliamentary republic             session 4   \n",
       "492730   period 10 presided parliamentary republic             session 4   \n",
       "...                                            ...                   ...   \n",
       "1194402  period 17 presided parliamentary republic             session 4   \n",
       "1194403  period 17 presided parliamentary republic             session 4   \n",
       "1194404  period 17 presided parliamentary republic             session 4   \n",
       "1194405  period 17 presided parliamentary republic             session 4   \n",
       "1194406  period 17 presided parliamentary republic             session 4   \n",
       "\n",
       "        parliamentary_sitting                 political_party  speaker_info  \\\n",
       "492726             sitting 55     κομμουνιστικο κομμα ελλαδας           NaN   \n",
       "492727             sitting 55  πανελληνιο σοσιαλιστικο κινημα    προεδρευων   \n",
       "492728             sitting 55     κομμουνιστικο κομμα ελλαδας           NaN   \n",
       "492729             sitting 55  πανελληνιο σοσιαλιστικο κινημα    προεδρευων   \n",
       "492730             sitting 55  πανελληνιο σοσιαλιστικο κινημα           NaN   \n",
       "...                       ...                             ...           ...   \n",
       "1194402            sitting 82     κομμουνιστικο κομμα ελλαδας           NaN   \n",
       "1194403            sitting 82                  νεα δημοκρατια    προεδρευων   \n",
       "1194404            sitting 82                  νεα δημοκρατια    προεδρευων   \n",
       "1194405            sitting 82                           βουλη  βουλευτης/ες   \n",
       "1194406            sitting 82                  νεα δημοκρατια    προεδρευων   \n",
       "\n",
       "                                                    speech  \n",
       "492726        Σε δύο ενότητες πότε, κύριε Υπουργέ; Σήμερα;  \n",
       "492727    Τη μια ενότητα σήμερα και τη δεύτερη αύριο μα...  \n",
       "492728    Πάρτε υπόψη σας, κύριε Πρόεδρε, ότι είναι και...  \n",
       "492729            Ορίστε, κύριε Βλαχόπουλε, έχετε το λόγο.  \n",
       "492730    Κύριε Πρόεδρε και εγώ συμφωνώ με την πρότασή ...  \n",
       "...                                                    ...  \n",
       "1194402   Κύριε Πρόεδρε, οι καταστροφές προφανώς δεν ήτ...  \n",
       "1194403             Ορίστε, κύριε Υπουργέ, έχετε τον λόγο.  \n",
       "1194404   Αρκεί και το κεντρικό κράτος, κύριε Υπουργέ, ...  \n",
       "1194405                                  Μάλιστα, μάλιστα.  \n",
       "1194406   Με τη συναίνεση του Σώματος και ώρα 11.25΄ λύ...  \n",
       "\n",
       "[701537 rows x 8 columns]"
      ]
     },
     "execution_count": 7,
     "metadata": {},
     "output_type": "execute_result"
    }
   ],
   "source": [
    "proceedings"
   ]
  },
  {
   "cell_type": "code",
   "execution_count": 8,
   "metadata": {},
   "outputs": [
    {
     "data": {
      "image/png": "[encoded data removed]",
      "text/plain": [
       "<Figure size 1080x720 with 1 Axes>"
      ]
     },
     "metadata": {},
     "output_type": "display_data"
    }
   ],
   "source": [
    "graph = SpeechesPerParty['speech'].plot(kind='bar', title ='Speeches Per Party', figsize=(15, 10), legend=True, fontsize=12)\n",
    "graph.set_xlabel('Political Party', fontsize=12)\n",
    "graph.set_ylabel('Speeches', fontsize=12)\n",
    "plt.show()"
   ]
  },
  {
   "cell_type": "markdown",
   "metadata": {},
   "source": [
    "Speakers Per Party"
   ]
  },
  {
   "cell_type": "code",
   "execution_count": 26,
   "metadata": {},
   "outputs": [
    {
     "data": {
      "text/html": [
       "<div>\n",
       "<style scoped>\n",
       "    .dataframe tbody tr th:only-of-type {\n",
       "        vertical-align: middle;\n",
       "    }\n",
       "\n",
       "    .dataframe tbody tr th {\n",
       "        vertical-align: top;\n",
       "    }\n",
       "\n",
       "    .dataframe thead th {\n",
       "        text-align: right;\n",
       "    }\n",
       "</style>\n",
       "<table border=\"1\" class=\"dataframe\">\n",
       "  <thead>\n",
       "    <tr style=\"text-align: right;\">\n",
       "      <th></th>\n",
       "      <th>speaker_info</th>\n",
       "    </tr>\n",
       "    <tr>\n",
       "      <th>political_party</th>\n",
       "      <th></th>\n",
       "    </tr>\n",
       "  </thead>\n",
       "  <tbody>\n",
       "    <tr>\n",
       "      <th>νεα δημοκρατια</th>\n",
       "      <td>156555</td>\n",
       "    </tr>\n",
       "    <tr>\n",
       "      <th>συνασπισμος ριζοσπαστικης αριστερας</th>\n",
       "      <td>68837</td>\n",
       "    </tr>\n",
       "    <tr>\n",
       "      <th>πανελληνιο σοσιαλιστικο κινημα</th>\n",
       "      <td>58794</td>\n",
       "    </tr>\n",
       "    <tr>\n",
       "      <th>βουλη</th>\n",
       "      <td>27821</td>\n",
       "    </tr>\n",
       "    <tr>\n",
       "      <th>κομμουνιστικο κομμα ελλαδας</th>\n",
       "      <td>18832</td>\n",
       "    </tr>\n",
       "    <tr>\n",
       "      <th>ανεξαρτητοι ελληνες - πανος καμμενος</th>\n",
       "      <td>8855</td>\n",
       "    </tr>\n",
       "    <tr>\n",
       "      <th>λαικος ορθοδοξος συναγερμος</th>\n",
       "      <td>8706</td>\n",
       "    </tr>\n",
       "    <tr>\n",
       "      <th>ανεξαρτητοι (εκτος κομματος)</th>\n",
       "      <td>8241</td>\n",
       "    </tr>\n",
       "    <tr>\n",
       "      <th>δημοκρατικη συμπαραταξη (πανελληνιο σοσιαλιστικο κινημα - δημοκρατικη αριστερα)</th>\n",
       "      <td>8055</td>\n",
       "    </tr>\n",
       "    <tr>\n",
       "      <th>ενωση κεντρωων</th>\n",
       "      <td>4811</td>\n",
       "    </tr>\n",
       "    <tr>\n",
       "      <th>ανεξαρτητοι ελληνες εθνικη πατριωτικη δημοκρατικη συμμαχια</th>\n",
       "      <td>2317</td>\n",
       "    </tr>\n",
       "    <tr>\n",
       "      <th>το ποταμι</th>\n",
       "      <td>1880</td>\n",
       "    </tr>\n",
       "    <tr>\n",
       "      <th>ανεξαρτητοι δημοκρατικοι βουλευτες</th>\n",
       "      <td>275</td>\n",
       "    </tr>\n",
       "    <tr>\n",
       "      <th>λαικος συνδεσος - χρυση αυγη</th>\n",
       "      <td>217</td>\n",
       "    </tr>\n",
       "    <tr>\n",
       "      <th>δημοκρατικη αριστερα</th>\n",
       "      <td>43</td>\n",
       "    </tr>\n",
       "    <tr>\n",
       "      <th>λαικη ενοτητα</th>\n",
       "      <td>9</td>\n",
       "    </tr>\n",
       "    <tr>\n",
       "      <th>συνασπισμος της αριστερας των κινηματων και της οικολογιας</th>\n",
       "      <td>9</td>\n",
       "    </tr>\n",
       "    <tr>\n",
       "      <th>αντιπολιτευση</th>\n",
       "      <td>1</td>\n",
       "    </tr>\n",
       "  </tbody>\n",
       "</table>\n",
       "</div>"
      ],
      "text/plain": [
       "                                                    speaker_info\n",
       "political_party                                                 \n",
       "νεα δημοκρατια                                            156555\n",
       "συνασπισμος ριζοσπαστικης αριστερας                        68837\n",
       "πανελληνιο σοσιαλιστικο κινημα                             58794\n",
       "βουλη                                                      27821\n",
       "κομμουνιστικο κομμα ελλαδας                                18832\n",
       "ανεξαρτητοι ελληνες - πανος καμμενος                        8855\n",
       "λαικος ορθοδοξος συναγερμος                                 8706\n",
       "ανεξαρτητοι (εκτος κομματος)                                8241\n",
       "δημοκρατικη συμπαραταξη (πανελληνιο σοσιαλιστικ...          8055\n",
       "ενωση κεντρωων                                              4811\n",
       "ανεξαρτητοι ελληνες εθνικη πατριωτικη δημοκρατι...          2317\n",
       "το ποταμι                                                   1880\n",
       "ανεξαρτητοι δημοκρατικοι βουλευτες                           275\n",
       "λαικος συνδεσος - χρυση αυγη                                 217\n",
       "δημοκρατικη αριστερα                                          43\n",
       "λαικη ενοτητα                                                  9\n",
       "συνασπισμος της αριστερας των κινηματων και της...             9\n",
       "αντιπολιτευση                                                  1"
      ]
     },
     "execution_count": 26,
     "metadata": {},
     "output_type": "execute_result"
    }
   ],
   "source": [
    "SpeakersPerParty = proceedings.groupby('political_party').count().sort_values(by='speaker_info', ascending=False)\n",
    "SpeakersPerParty[['speaker_info']]"
   ]
  },
  {
   "cell_type": "code",
   "execution_count": 27,
   "metadata": {},
   "outputs": [
    {
     "data": {
      "image/png": "[encoded data removed]",
      "text/plain": [
       "<Figure size 1080x720 with 1 Axes>"
      ]
     },
     "metadata": {},
     "output_type": "display_data"
    }
   ],
   "source": [
    "graph = SpeakersPerParty['speaker_info'].plot(kind='bar', title ='Speakers Per Party', figsize=(15, 10), legend=True, fontsize=12)\n",
    "graph.set_xlabel('Political Party', fontsize=12)\n",
    "graph.set_ylabel('Speakers', fontsize=12)\n",
    "plt.show()"
   ]
  },
  {
   "cell_type": "markdown",
   "metadata": {},
   "source": [
    "Speeches Over Time"
   ]
  },
  {
   "cell_type": "code",
   "execution_count": 28,
   "metadata": {},
   "outputs": [
    {
     "data": {
      "text/html": [
       "<div>\n",
       "<style scoped>\n",
       "    .dataframe tbody tr th:only-of-type {\n",
       "        vertical-align: middle;\n",
       "    }\n",
       "\n",
       "    .dataframe tbody tr th {\n",
       "        vertical-align: top;\n",
       "    }\n",
       "\n",
       "    .dataframe thead th {\n",
       "        text-align: right;\n",
       "    }\n",
       "</style>\n",
       "<table border=\"1\" class=\"dataframe\">\n",
       "  <thead>\n",
       "    <tr style=\"text-align: right;\">\n",
       "      <th></th>\n",
       "      <th>speech</th>\n",
       "    </tr>\n",
       "    <tr>\n",
       "      <th>sitting_date</th>\n",
       "      <th></th>\n",
       "    </tr>\n",
       "  </thead>\n",
       "  <tbody>\n",
       "    <tr>\n",
       "      <th>2004-12-31</th>\n",
       "      <td>26822</td>\n",
       "    </tr>\n",
       "    <tr>\n",
       "      <th>2005-12-31</th>\n",
       "      <td>51884</td>\n",
       "    </tr>\n",
       "    <tr>\n",
       "      <th>2006-12-31</th>\n",
       "      <td>39535</td>\n",
       "    </tr>\n",
       "    <tr>\n",
       "      <th>2007-12-31</th>\n",
       "      <td>37519</td>\n",
       "    </tr>\n",
       "    <tr>\n",
       "      <th>2008-12-31</th>\n",
       "      <td>52873</td>\n",
       "    </tr>\n",
       "    <tr>\n",
       "      <th>2009-12-31</th>\n",
       "      <td>31020</td>\n",
       "    </tr>\n",
       "    <tr>\n",
       "      <th>2010-12-31</th>\n",
       "      <td>45864</td>\n",
       "    </tr>\n",
       "    <tr>\n",
       "      <th>2011-12-31</th>\n",
       "      <td>54758</td>\n",
       "    </tr>\n",
       "    <tr>\n",
       "      <th>2012-12-31</th>\n",
       "      <td>41307</td>\n",
       "    </tr>\n",
       "    <tr>\n",
       "      <th>2013-12-31</th>\n",
       "      <td>52192</td>\n",
       "    </tr>\n",
       "    <tr>\n",
       "      <th>2014-12-31</th>\n",
       "      <td>59677</td>\n",
       "    </tr>\n",
       "    <tr>\n",
       "      <th>2015-12-31</th>\n",
       "      <td>36880</td>\n",
       "    </tr>\n",
       "    <tr>\n",
       "      <th>2016-12-31</th>\n",
       "      <td>72671</td>\n",
       "    </tr>\n",
       "    <tr>\n",
       "      <th>2017-12-31</th>\n",
       "      <td>52006</td>\n",
       "    </tr>\n",
       "    <tr>\n",
       "      <th>2018-12-31</th>\n",
       "      <td>38564</td>\n",
       "    </tr>\n",
       "    <tr>\n",
       "      <th>2019-12-31</th>\n",
       "      <td>7965</td>\n",
       "    </tr>\n",
       "  </tbody>\n",
       "</table>\n",
       "</div>"
      ],
      "text/plain": [
       "              speech\n",
       "sitting_date        \n",
       "2004-12-31     26822\n",
       "2005-12-31     51884\n",
       "2006-12-31     39535\n",
       "2007-12-31     37519\n",
       "2008-12-31     52873\n",
       "2009-12-31     31020\n",
       "2010-12-31     45864\n",
       "2011-12-31     54758\n",
       "2012-12-31     41307\n",
       "2013-12-31     52192\n",
       "2014-12-31     59677\n",
       "2015-12-31     36880\n",
       "2016-12-31     72671\n",
       "2017-12-31     52006\n",
       "2018-12-31     38564\n",
       "2019-12-31      7965"
      ]
     },
     "execution_count": 28,
     "metadata": {},
     "output_type": "execute_result"
    }
   ],
   "source": [
    "SpeechesOverTime = proceedings.set_index(pd.DatetimeIndex(proceedings['sitting_date']))\n",
    "SpeechesOverTime = SpeechesOverTime.groupby(pd.Grouper(freq='Y')).count()\n",
    "SpeechesOverTime[['speech']]"
   ]
  },
  {
   "cell_type": "code",
   "execution_count": 29,
   "metadata": {},
   "outputs": [
    {
     "data": {
      "image/png": "[encoded data removed]",
      "text/plain": [
       "<Figure size 1080x720 with 1 Axes>"
      ]
     },
     "metadata": {},
     "output_type": "display_data"
    }
   ],
   "source": [
    "graph = SpeechesOverTime['sitting_date'].plot(kind='bar', title ='Speeches Over Time', figsize=(15, 10), legend=True, fontsize=12)\n",
    "graph.set_xlabel('Year', fontsize=12)\n",
    "graph.set_ylabel('Speeches', fontsize=12)\n",
    "plt.show()"
   ]
  },
  {
   "cell_type": "markdown",
   "metadata": {},
   "source": [
    "Speeches Per Party And Time"
   ]
  },
  {
   "cell_type": "code",
   "execution_count": 174,
   "metadata": {},
   "outputs": [],
   "source": [
    "SpeechesPerPartyAndTime = proceedings.set_index(pd.DatetimeIndex(proceedings['sitting_date']))\n",
    "SpeechesPerPartyAndTime"
   ]
  },
  {
   "cell_type": "code",
   "execution_count": 176,
   "metadata": {},
   "outputs": [
    {
     "data": {
      "image/png": "[encoded data removed]",
      "text/plain": [
       "<Figure size 2160x1440 with 1 Axes>"
      ]
     },
     "metadata": {},
     "output_type": "display_data"
    }
   ],
   "source": [
    "graph = SpeechesPerPartyAndTime.groupby([pd.Grouper(freq='Y'),'political_party'])['speech'].count().plot(kind='bar', title ='Speeches Per Time And Party', figsize=(30, 20), legend=True, fontsize=12)\n",
    "graph.set_xlabel('Year and Party', fontsize=12)\n",
    "graph.set_ylabel('Speeches', fontsize=12)\n",
    "plt.show()"
   ]
  },
  {
   "cell_type": "markdown",
   "metadata": {},
   "source": [
    "Shuffling the data and setting random state to 42."
   ]
  },
  {
   "cell_type": "code",
   "execution_count": 10,
   "metadata": {},
   "outputs": [],
   "source": [
    "proceedings = proceedings.sample(frac=1,random_state=42)"
   ]
  },
  {
   "cell_type": "code",
   "execution_count": 11,
   "metadata": {},
   "outputs": [],
   "source": [
    "nlp = spacy.load('el_core_news_lg')"
   ]
  },
  {
   "cell_type": "markdown",
   "metadata": {},
   "source": [
    "<h1>Cleaning the data</h1>"
   ]
  },
  {
   "cell_type": "markdown",
   "metadata": {},
   "source": [
    "Keeping the greek stop word list of spacy"
   ]
  },
  {
   "cell_type": "code",
   "execution_count": 12,
   "metadata": {},
   "outputs": [],
   "source": [
    "stopwords = list(STOP_WORDS)"
   ]
  },
  {
   "cell_type": "markdown",
   "metadata": {},
   "source": [
    "Keeping the punctuation list of string"
   ]
  },
  {
   "cell_type": "code",
   "execution_count": 13,
   "metadata": {},
   "outputs": [],
   "source": [
    "punct = string.punctuation"
   ]
  },
  {
   "cell_type": "markdown",
   "metadata": {},
   "source": [
    "Our speech optimizer.  \n",
    "We are using spacy to tokenize each speech.  \n",
    "We search if its lemma is in stopwords, so we can exclude this word.  \n",
    "We do the same for punctuation and also search in list l, which sees if a token is a number(NUM), a symbol(SYM), a punctuation(PUNCT) or an unknown symbol(X).  \n",
    "Then we put the lemma of each word  into a string, convert it to lowercase and strip it.  "
   ]
  },
  {
   "cell_type": "code",
   "execution_count": 14,
   "metadata": {},
   "outputs": [],
   "source": [
    "def speech_optimizer(sentence):\n",
    "    doc = nlp(sentence)\n",
    "    l = ['NUM', 'SYM', 'PUNCT', 'X']\n",
    "    s=''\n",
    "    for token in doc:\n",
    "        if token.lemma_ not in stopwords and token.lemma_ not in punct and token.lemma_ not in l:\n",
    "            temp = token.lemma_.lower().strip()\n",
    "            s=s+' '+temp\n",
    "    s = s.strip()\n",
    "    return s"
   ]
  },
  {
   "cell_type": "markdown",
   "metadata": {},
   "source": [
    "To make tokenization faster for later, we create a new column, cleaned_speech, and apply our fucntion.  \n",
    "Of course, it takes about 6 hours but makes tfidf Tokenizer run a lot faster."
   ]
  },
  {
   "cell_type": "code",
   "execution_count": 15,
   "metadata": {},
   "outputs": [],
   "source": [
    "proceedings['cleaned_speech'] = proceedings['speech'].apply(lambda x: speech_optimizer(x))"
   ]
  },
  {
   "cell_type": "markdown",
   "metadata": {},
   "source": [
    "We delete the NaN values that may have been produced."
   ]
  },
  {
   "cell_type": "code",
   "execution_count": 16,
   "metadata": {},
   "outputs": [],
   "source": [
    "proceedings = proceedings[proceedings['cleaned_speech'].notna()]"
   ]
  },
  {
   "cell_type": "markdown",
   "metadata": {},
   "source": [
    "<h1>Scikit implementation (2 Non Neural Network Methods)</h1>"
   ]
  },
  {
   "cell_type": "markdown",
   "metadata": {},
   "source": [
    "Removing αντιπολιτευση as the warning: The least populated class in y has only 1 members, which is less than n_splits=5 will occur"
   ]
  },
  {
   "cell_type": "code",
   "execution_count": 3,
   "metadata": {},
   "outputs": [],
   "source": [
    "proceedings = proceedings[~proceedings['political_party'].isin(['αντιπολιτευση'])]"
   ]
  },
  {
   "cell_type": "code",
   "execution_count": 4,
   "metadata": {},
   "outputs": [],
   "source": [
    "proceedings = proceedings[['political_party','cleaned_speech']]"
   ]
  },
  {
   "cell_type": "code",
   "execution_count": 4,
   "metadata": {},
   "outputs": [],
   "source": [
    "proceedings = proceedings[proceedings['cleaned_speech'].notna()]\n",
    "proceedings = proceedings[proceedings['political_party'].notna()]"
   ]
  },
  {
   "cell_type": "markdown",
   "metadata": {},
   "source": [
    "Splitting our data into test and train, with random state = 42"
   ]
  },
  {
   "cell_type": "code",
   "execution_count": 5,
   "metadata": {},
   "outputs": [],
   "source": [
    "X = proceedings['cleaned_speech']\n",
    "y = proceedings['political_party']"
   ]
  },
  {
   "cell_type": "code",
   "execution_count": 6,
   "metadata": {},
   "outputs": [
    {
     "data": {
      "text/plain": [
       "((497657,), (165886,))"
      ]
     },
     "execution_count": 6,
     "metadata": {},
     "output_type": "execute_result"
    }
   ],
   "source": [
    "X_train, X_test, y_train, y_test = train_test_split(X, y, test_size = 0.25, random_state = 42)\n",
    "X_train.shape, X_test.shape"
   ]
  },
  {
   "cell_type": "markdown",
   "metadata": {},
   "source": [
    "<h1> Dummy Classifier </h1>"
   ]
  },
  {
   "cell_type": "markdown",
   "metadata": {},
   "source": [
    "We test the dummy classifier with most frequent strategy, to see how a random classifier performs with our dataset."
   ]
  },
  {
   "cell_type": "code",
   "execution_count": 17,
   "metadata": {},
   "outputs": [],
   "source": [
    "clf = DummyClassifier(strategy='most_frequent')"
   ]
  },
  {
   "cell_type": "code",
   "execution_count": 18,
   "metadata": {},
   "outputs": [
    {
     "data": {
      "text/plain": [
       "DummyClassifier(strategy='most_frequent')"
      ]
     },
     "execution_count": 18,
     "metadata": {},
     "output_type": "execute_result"
    }
   ],
   "source": [
    "clf.fit(X_train, y_train)"
   ]
  },
  {
   "cell_type": "code",
   "execution_count": 19,
   "metadata": {},
   "outputs": [],
   "source": [
    "y_pred = clf.predict(X_test)"
   ]
  },
  {
   "cell_type": "code",
   "execution_count": 20,
   "metadata": {},
   "outputs": [
    {
     "name": "stdout",
     "output_type": "stream",
     "text": [
      "                                                                                 precision    recall  f1-score   support\n",
      "\n",
      "                                                   ανεξαρτητοι (εκτος κομματος)       1.00      0.00      0.00      5466\n",
      "                                             ανεξαρτητοι δημοκρατικοι βουλευτες       1.00      0.00      0.00       433\n",
      "                                           ανεξαρτητοι ελληνες - πανος καμμενος       1.00      0.00      0.00      3551\n",
      "                     ανεξαρτητοι ελληνες εθνικη πατριωτικη δημοκρατικη συμμαχια       1.00      0.00      0.00       976\n",
      "                                                                          βουλη       1.00      0.00      0.00      5057\n",
      "                                                           δημοκρατικη αριστερα       1.00      0.00      0.00      1045\n",
      "δημοκρατικη συμπαραταξη (πανελληνιο σοσιαλιστικο κινημα - δημοκρατικη αριστερα)       1.00      0.00      0.00      5096\n",
      "                                                                 ενωση κεντρωων       1.00      0.00      0.00      1868\n",
      "                                                    κομμουνιστικο κομμα ελλαδας       1.00      0.00      0.00     13964\n",
      "                                                                  λαικη ενοτητα       1.00      0.00      0.00        74\n",
      "                                                    λαικος ορθοδοξος συναγερμος       1.00      0.00      0.00      5801\n",
      "                                                   λαικος συνδεσος - χρυση αυγη       1.00      0.00      0.00      2822\n",
      "                                                                 νεα δημοκρατια       0.33      1.00      0.50     55213\n",
      "                                                 πανελληνιο σοσιαλιστικο κινημα       1.00      0.00      0.00     32556\n",
      "                                            συνασπισμος ριζοσπαστικης αριστερας       1.00      0.00      0.00     30515\n",
      "                     συνασπισμος της αριστερας των κινηματων και της οικολογιας       1.00      0.00      0.00        86\n",
      "                                                                      το ποταμι       1.00      0.00      0.00      1363\n",
      "\n",
      "                                                                       accuracy                           0.33    165886\n",
      "                                                                      macro avg       0.96      0.06      0.03    165886\n",
      "                                                                   weighted avg       0.78      0.33      0.17    165886\n",
      "\n"
     ]
    }
   ],
   "source": [
    "print(classification_report(y_test, y_pred,zero_division=1))"
   ]
  },
  {
   "cell_type": "markdown",
   "metadata": {},
   "source": [
    "Following this [cheat-sheet](https://scikit-learn.org/stable/tutorial/machine_learning_map/index.html) form scikit's official website I decided to test SGD, LinearSVC and MultinomialNB."
   ]
  },
  {
   "cell_type": "markdown",
   "metadata": {},
   "source": [
    "<h1>Grid Search with MultinomialNB (all parties)</h1>"
   ]
  },
  {
   "cell_type": "markdown",
   "metadata": {},
   "source": [
    "For MultinomialNB I decided to run the Grid Search with the following parameters:  \n",
    "alpha is a smoothing parameter.  \n",
    "For the tfidf vectorizer:  \n",
    "max df ignores terms that appear in more than X% of speeches.  \n",
    "ngram range takes unigrams(1,2) and bigrams(2,2).  "
   ]
  },
  {
   "cell_type": "code",
   "execution_count": 45,
   "metadata": {},
   "outputs": [],
   "source": [
    "tfidf = TfidfVectorizer()"
   ]
  },
  {
   "cell_type": "code",
   "execution_count": 46,
   "metadata": {},
   "outputs": [],
   "source": [
    "parameters = {\n",
    "    'tfidf__max_df': (0.50, 0.80),\n",
    "    'tfidf__ngram_range': [(1, 2), (2, 2)],\n",
    "    'clf__alpha': (0.001, 0.01, 0.1, 0, 1, 1.5)\n",
    "}"
   ]
  },
  {
   "cell_type": "code",
   "execution_count": 47,
   "metadata": {},
   "outputs": [],
   "source": [
    "clf = Pipeline([('tfidf',tfidf), ('clf', MultinomialNB())])"
   ]
  },
  {
   "cell_type": "code",
   "execution_count": 17,
   "metadata": {},
   "outputs": [],
   "source": [
    "GridMNB = GridSearchCV(clf, parameters, n_jobs=5, cv=5,verbose=100)"
   ]
  },
  {
   "cell_type": "code",
   "execution_count": 19,
   "metadata": {},
   "outputs": [
    {
     "name": "stdout",
     "output_type": "stream",
     "text": [
      "Fitting 5 folds for each of 24 candidates, totalling 120 fits\n",
      "[Parallel(n_jobs=5)]: Using backend LokyBackend with 5 concurrent workers.\n",
      "[Parallel(n_jobs=5)]: Done   1 tasks      | elapsed:  8.3min\n",
      "[Parallel(n_jobs=5)]: Done   2 tasks      | elapsed:  8.5min\n",
      "[Parallel(n_jobs=5)]: Done   3 tasks      | elapsed:  8.7min\n",
      "[Parallel(n_jobs=5)]: Done   4 tasks      | elapsed:  8.7min\n",
      "[Parallel(n_jobs=5)]: Done   5 tasks      | elapsed:  8.8min\n",
      "[Parallel(n_jobs=5)]: Done   6 tasks      | elapsed: 13.3min\n",
      "[Parallel(n_jobs=5)]: Done   7 tasks      | elapsed: 16.3min\n",
      "[Parallel(n_jobs=5)]: Done   8 tasks      | elapsed: 16.3min\n",
      "[Parallel(n_jobs=5)]: Done   9 tasks      | elapsed: 16.9min\n",
      "[Parallel(n_jobs=5)]: Done  10 tasks      | elapsed: 17.2min\n",
      "[Parallel(n_jobs=5)]: Done  11 tasks      | elapsed: 17.3min\n",
      "[Parallel(n_jobs=5)]: Done  12 tasks      | elapsed: 22.1min\n",
      "[Parallel(n_jobs=5)]: Done  13 tasks      | elapsed: 23.1min\n",
      "[Parallel(n_jobs=5)]: Done  14 tasks      | elapsed: 25.2min\n",
      "[Parallel(n_jobs=5)]: Done  15 tasks      | elapsed: 25.2min\n",
      "[Parallel(n_jobs=5)]: Done  16 tasks      | elapsed: 26.1min\n",
      "[Parallel(n_jobs=5)]: Done  17 tasks      | elapsed: 26.5min\n",
      "[Parallel(n_jobs=5)]: Done  18 tasks      | elapsed: 28.1min\n",
      "[Parallel(n_jobs=5)]: Done  19 tasks      | elapsed: 31.1min\n",
      "[Parallel(n_jobs=5)]: Done  20 tasks      | elapsed: 32.1min\n",
      "[Parallel(n_jobs=5)]: Done  21 tasks      | elapsed: 33.1min\n",
      "[Parallel(n_jobs=5)]: Done  22 tasks      | elapsed: 35.0min\n",
      "[Parallel(n_jobs=5)]: Done  23 tasks      | elapsed: 35.2min\n",
      "[Parallel(n_jobs=5)]: Done  24 tasks      | elapsed: 37.9min\n",
      "[Parallel(n_jobs=5)]: Done  25 tasks      | elapsed: 39.4min\n",
      "[Parallel(n_jobs=5)]: Done  26 tasks      | elapsed: 40.7min\n",
      "[Parallel(n_jobs=5)]: Done  27 tasks      | elapsed: 40.8min\n",
      "[Parallel(n_jobs=5)]: Done  28 tasks      | elapsed: 40.8min\n",
      "[Parallel(n_jobs=5)]: Done  29 tasks      | elapsed: 42.1min\n",
      "[Parallel(n_jobs=5)]: Done  30 tasks      | elapsed: 46.0min\n",
      "[Parallel(n_jobs=5)]: Done  31 tasks      | elapsed: 48.5min\n",
      "[Parallel(n_jobs=5)]: Done  32 tasks      | elapsed: 48.6min\n",
      "[Parallel(n_jobs=5)]: Done  33 tasks      | elapsed: 48.6min\n",
      "[Parallel(n_jobs=5)]: Done  34 tasks      | elapsed: 48.6min\n",
      "[Parallel(n_jobs=5)]: Done  35 tasks      | elapsed: 54.6min\n",
      "[Parallel(n_jobs=5)]: Done  36 tasks      | elapsed: 54.7min\n",
      "[Parallel(n_jobs=5)]: Done  37 tasks      | elapsed: 55.2min\n",
      "[Parallel(n_jobs=5)]: Done  38 tasks      | elapsed: 55.3min\n",
      "[Parallel(n_jobs=5)]: Done  39 tasks      | elapsed: 55.4min\n",
      "[Parallel(n_jobs=5)]: Done  40 tasks      | elapsed: 61.2min\n",
      "[Parallel(n_jobs=5)]: Done  41 tasks      | elapsed: 61.5min\n",
      "[Parallel(n_jobs=5)]: Done  42 tasks      | elapsed: 62.3min\n",
      "[Parallel(n_jobs=5)]: Done  43 tasks      | elapsed: 64.9min\n",
      "[Parallel(n_jobs=5)]: Done  44 tasks      | elapsed: 66.6min\n",
      "[Parallel(n_jobs=5)]: Done  45 tasks      | elapsed: 66.8min\n",
      "[Parallel(n_jobs=5)]: Done  46 tasks      | elapsed: 67.3min\n",
      "[Parallel(n_jobs=5)]: Done  47 tasks      | elapsed: 68.5min\n",
      "[Parallel(n_jobs=5)]: Done  48 tasks      | elapsed: 69.2min\n",
      "[Parallel(n_jobs=5)]: Done  49 tasks      | elapsed: 71.2min\n",
      "[Parallel(n_jobs=5)]: Done  50 tasks      | elapsed: 72.0min\n",
      "[Parallel(n_jobs=5)]: Done  51 tasks      | elapsed: 76.4min\n",
      "[Parallel(n_jobs=5)]: Done  52 tasks      | elapsed: 77.3min\n",
      "[Parallel(n_jobs=5)]: Done  53 tasks      | elapsed: 77.4min\n",
      "[Parallel(n_jobs=5)]: Done  54 tasks      | elapsed: 77.6min\n",
      "[Parallel(n_jobs=5)]: Done  55 tasks      | elapsed: 78.1min\n",
      "[Parallel(n_jobs=5)]: Done  56 tasks      | elapsed: 81.5min\n",
      "[Parallel(n_jobs=5)]: Done  57 tasks      | elapsed: 81.7min\n",
      "[Parallel(n_jobs=5)]: Done  58 tasks      | elapsed: 83.3min\n",
      "[Parallel(n_jobs=5)]: Done  59 tasks      | elapsed: 83.7min\n",
      "[Parallel(n_jobs=5)]: Done  60 tasks      | elapsed: 84.3min\n",
      "[Parallel(n_jobs=5)]: Done  61 tasks      | elapsed: 88.0min\n",
      "[Parallel(n_jobs=5)]: Done  62 tasks      | elapsed: 89.8min\n",
      "[Parallel(n_jobs=5)]: Done  63 tasks      | elapsed: 91.2min\n",
      "[Parallel(n_jobs=5)]: Done  64 tasks      | elapsed: 92.1min\n",
      "[Parallel(n_jobs=5)]: Done  65 tasks      | elapsed: 92.6min\n",
      "[Parallel(n_jobs=5)]: Done  66 tasks      | elapsed: 92.7min\n",
      "[Parallel(n_jobs=5)]: Done  67 tasks      | elapsed: 95.7min\n",
      "[Parallel(n_jobs=5)]: Done  68 tasks      | elapsed: 97.3min\n",
      "[Parallel(n_jobs=5)]: Done  69 tasks      | elapsed: 98.8min\n",
      "[Parallel(n_jobs=5)]: Done  70 tasks      | elapsed: 98.9min\n",
      "[Parallel(n_jobs=5)]: Done  71 tasks      | elapsed: 99.5min\n",
      "[Parallel(n_jobs=5)]: Done  72 tasks      | elapsed: 102.4min\n",
      "[Parallel(n_jobs=5)]: Done  73 tasks      | elapsed: 103.5min\n",
      "[Parallel(n_jobs=5)]: Done  74 tasks      | elapsed: 104.7min\n",
      "[Parallel(n_jobs=5)]: Done  75 tasks      | elapsed: 105.5min\n",
      "[Parallel(n_jobs=5)]: Done  76 tasks      | elapsed: 108.0min\n",
      "[Parallel(n_jobs=5)]: Done  77 tasks      | elapsed: 110.5min\n",
      "[Parallel(n_jobs=5)]: Done  78 tasks      | elapsed: 110.6min\n",
      "[Parallel(n_jobs=5)]: Done  79 tasks      | elapsed: 110.6min\n",
      "[Parallel(n_jobs=5)]: Done  80 tasks      | elapsed: 111.5min\n",
      "[Parallel(n_jobs=5)]: Done  81 tasks      | elapsed: 116.9min\n",
      "[Parallel(n_jobs=5)]: Done  82 tasks      | elapsed: 117.5min\n",
      "[Parallel(n_jobs=5)]: Done  83 tasks      | elapsed: 117.6min\n",
      "[Parallel(n_jobs=5)]: Done  84 tasks      | elapsed: 118.0min\n",
      "[Parallel(n_jobs=5)]: Done  85 tasks      | elapsed: 118.2min\n",
      "[Parallel(n_jobs=5)]: Done  86 tasks      | elapsed: 123.3min\n",
      "[Parallel(n_jobs=5)]: Done  87 tasks      | elapsed: 124.3min\n",
      "[Parallel(n_jobs=5)]: Done  88 tasks      | elapsed: 124.3min\n",
      "[Parallel(n_jobs=5)]: Done  89 tasks      | elapsed: 124.3min\n",
      "[Parallel(n_jobs=5)]: Done  90 tasks      | elapsed: 124.5min\n",
      "[Parallel(n_jobs=5)]: Done  91 tasks      | elapsed: 130.7min\n",
      "[Parallel(n_jobs=5)]: Done  92 tasks      | elapsed: 130.7min\n",
      "[Parallel(n_jobs=5)]: Done  93 tasks      | elapsed: 131.9min\n",
      "[Parallel(n_jobs=5)]: Done  94 tasks      | elapsed: 131.9min\n",
      "[Parallel(n_jobs=5)]: Done  95 tasks      | elapsed: 132.9min\n",
      "[Parallel(n_jobs=5)]: Done  96 tasks      | elapsed: 136.8min\n",
      "[Parallel(n_jobs=5)]: Done  97 tasks      | elapsed: 136.8min\n",
      "[Parallel(n_jobs=5)]: Done  98 tasks      | elapsed: 136.8min\n",
      "[Parallel(n_jobs=5)]: Done  99 tasks      | elapsed: 137.3min\n",
      "[Parallel(n_jobs=5)]: Done 100 tasks      | elapsed: 138.0min\n",
      "[Parallel(n_jobs=5)]: Done 101 tasks      | elapsed: 143.1min\n",
      "[Parallel(n_jobs=5)]: Done 102 tasks      | elapsed: 144.2min\n",
      "[Parallel(n_jobs=5)]: Done 103 tasks      | elapsed: 144.3min\n",
      "[Parallel(n_jobs=5)]: Done 104 tasks      | elapsed: 144.4min\n",
      "[Parallel(n_jobs=5)]: Done 105 tasks      | elapsed: 146.3min\n",
      "[Parallel(n_jobs=5)]: Done 106 tasks      | elapsed: 147.6min\n",
      "[Parallel(n_jobs=5)]: Done 107 tasks      | elapsed: 149.2min\n",
      "[Parallel(n_jobs=5)]: Done 108 tasks      | elapsed: 151.8min\n",
      "[Parallel(n_jobs=5)]: Done 109 tasks      | elapsed: 152.0min\n",
      "[Parallel(n_jobs=5)]: Done 110 tasks      | elapsed: 152.9min\n",
      "[Parallel(n_jobs=5)]: Done 111 tasks      | elapsed: 154.2min\n",
      "[Parallel(n_jobs=5)]: Done 113 out of 120 | elapsed: 159.2min remaining:  9.9min\n",
      "[Parallel(n_jobs=5)]: Done 115 out of 120 | elapsed: 160.2min remaining:  7.0min\n",
      "[Parallel(n_jobs=5)]: Done 117 out of 120 | elapsed: 160.9min remaining:  4.1min\n",
      "[Parallel(n_jobs=5)]: Done 120 out of 120 | elapsed: 162.8min finished\n"
     ]
    }
   ],
   "source": [
    "GridMNB = GridMNB.fit(X_train, y_train)"
   ]
  },
  {
   "cell_type": "code",
   "execution_count": 20,
   "metadata": {},
   "outputs": [
    {
     "data": {
      "text/plain": [
       "Pipeline(steps=[('tfidf', TfidfVectorizer(max_df=0.5, ngram_range=(1, 2))),\n",
       "                ('clf', MultinomialNB(alpha=0.001))])"
      ]
     },
     "execution_count": 20,
     "metadata": {},
     "output_type": "execute_result"
    }
   ],
   "source": [
    "GridMNB.best_estimator_"
   ]
  },
  {
   "cell_type": "code",
   "execution_count": 21,
   "metadata": {},
   "outputs": [
    {
     "data": {
      "text/plain": [
       "{'clf__alpha': 0.001, 'tfidf__max_df': 0.5, 'tfidf__ngram_range': (1, 2)}"
      ]
     },
     "execution_count": 21,
     "metadata": {},
     "output_type": "execute_result"
    }
   ],
   "source": [
    "GridMNB.best_params_"
   ]
  },
  {
   "cell_type": "markdown",
   "metadata": {},
   "source": [
    "<h1>Best Parameters with MultinomialNB (all parties)</h1>"
   ]
  },
  {
   "cell_type": "code",
   "execution_count": 7,
   "metadata": {},
   "outputs": [],
   "source": [
    "tfidf = TfidfVectorizer(max_df=0.5,ngram_range=(1, 2))\n",
    "classifier =  MultinomialNB(alpha=0.001)"
   ]
  },
  {
   "cell_type": "code",
   "execution_count": 8,
   "metadata": {},
   "outputs": [],
   "source": [
    "clf = Pipeline([('tfidf', tfidf), ('clf', classifier)],verbose=100)"
   ]
  },
  {
   "cell_type": "code",
   "execution_count": 9,
   "metadata": {},
   "outputs": [
    {
     "name": "stdout",
     "output_type": "stream",
     "text": [
      "[Pipeline] ............. (step 1 of 2) Processing tfidf, total= 2.4min\n",
      "[Pipeline] ............... (step 2 of 2) Processing clf, total=  13.5s\n"
     ]
    },
    {
     "data": {
      "text/plain": [
       "Pipeline(steps=[('tfidf', TfidfVectorizer(max_df=0.5, ngram_range=(1, 2))),\n",
       "                ('clf', MultinomialNB(alpha=0.001))],\n",
       "         verbose=100)"
      ]
     },
     "execution_count": 9,
     "metadata": {},
     "output_type": "execute_result"
    }
   ],
   "source": [
    "clf.fit(X_train, y_train)"
   ]
  },
  {
   "cell_type": "code",
   "execution_count": 10,
   "metadata": {},
   "outputs": [],
   "source": [
    "y_pred = clf.predict(X_test)"
   ]
  },
  {
   "cell_type": "code",
   "execution_count": 11,
   "metadata": {},
   "outputs": [
    {
     "name": "stderr",
     "output_type": "stream",
     "text": [
      "C:\\Users\\Jero\\anaconda3\\lib\\site-packages\\sklearn\\metrics\\_classification.py:1221: UndefinedMetricWarning: Precision and F-score are ill-defined and being set to 0.0 in labels with no predicted samples. Use `zero_division` parameter to control this behavior.\n",
      "  _warn_prf(average, modifier, msg_start, len(result))\n"
     ]
    },
    {
     "name": "stdout",
     "output_type": "stream",
     "text": [
      "                                                                                 precision    recall  f1-score   support\n",
      "\n",
      "                                                   ανεξαρτητοι (εκτος κομματος)       0.32      0.05      0.08      5466\n",
      "                                             ανεξαρτητοι δημοκρατικοι βουλευτες       0.40      0.02      0.04       433\n",
      "                                           ανεξαρτητοι ελληνες - πανος καμμενος       0.33      0.17      0.22      3551\n",
      "                     ανεξαρτητοι ελληνες εθνικη πατριωτικη δημοκρατικη συμμαχια       0.49      0.07      0.12       976\n",
      "                                                                          βουλη       0.77      0.98      0.86      5057\n",
      "                                                           δημοκρατικη αριστερα       0.56      0.05      0.09      1045\n",
      "δημοκρατικη συμπαραταξη (πανελληνιο σοσιαλιστικο κινημα - δημοκρατικη αριστερα)       0.38      0.12      0.18      5096\n",
      "                                                                 ενωση κεντρωων       0.41      0.11      0.17      1868\n",
      "                                                    κομμουνιστικο κομμα ελλαδας       0.45      0.52      0.48     13964\n",
      "                                                                  λαικη ενοτητα       0.00      0.00      0.00        74\n",
      "                                                    λαικος ορθοδοξος συναγερμος       0.46      0.17      0.25      5801\n",
      "                                                   λαικος συνδεσος - χρυση αυγη       0.63      0.24      0.35      2822\n",
      "                                                                 νεα δημοκρατια       0.50      0.74      0.60     55213\n",
      "                                                 πανελληνιο σοσιαλιστικο κινημα       0.45      0.41      0.43     32556\n",
      "                                            συνασπισμος ριζοσπαστικης αριστερας       0.46      0.35      0.40     30515\n",
      "                     συνασπισμος της αριστερας των κινηματων και της οικολογιας       0.25      0.01      0.02        86\n",
      "                                                                      το ποταμι       0.30      0.03      0.05      1363\n",
      "\n",
      "                                                                       accuracy                           0.49    165886\n",
      "                                                                      macro avg       0.42      0.24      0.26    165886\n",
      "                                                                   weighted avg       0.47      0.49      0.45    165886\n",
      "\n"
     ]
    }
   ],
   "source": [
    "print(classification_report(y_test, y_pred))"
   ]
  },
  {
   "cell_type": "markdown",
   "metadata": {},
   "source": [
    "<h1>Grid Search with MultinomialNB (top 8 parties)</h1>"
   ]
  },
  {
   "cell_type": "markdown",
   "metadata": {},
   "source": [
    "I decided to keep only the top 8 parties, excluding βουλη, to see if we can get better results."
   ]
  },
  {
   "cell_type": "code",
   "execution_count": 53,
   "metadata": {},
   "outputs": [],
   "source": [
    "proceedingsTop8 = proceedings.copy()"
   ]
  },
  {
   "cell_type": "code",
   "execution_count": 54,
   "metadata": {},
   "outputs": [
    {
     "data": {
      "text/html": [
       "<div>\n",
       "<style scoped>\n",
       "    .dataframe tbody tr th:only-of-type {\n",
       "        vertical-align: middle;\n",
       "    }\n",
       "\n",
       "    .dataframe tbody tr th {\n",
       "        vertical-align: top;\n",
       "    }\n",
       "\n",
       "    .dataframe thead th {\n",
       "        text-align: right;\n",
       "    }\n",
       "</style>\n",
       "<table border=\"1\" class=\"dataframe\">\n",
       "  <thead>\n",
       "    <tr style=\"text-align: right;\">\n",
       "      <th></th>\n",
       "      <th>cleaned_speech</th>\n",
       "    </tr>\n",
       "    <tr>\n",
       "      <th>political_party</th>\n",
       "      <th></th>\n",
       "    </tr>\n",
       "  </thead>\n",
       "  <tbody>\n",
       "    <tr>\n",
       "      <th>νεα δημοκρατια</th>\n",
       "      <td>221421</td>\n",
       "    </tr>\n",
       "    <tr>\n",
       "      <th>πανελληνιο σοσιαλιστικο κινημα</th>\n",
       "      <td>130181</td>\n",
       "    </tr>\n",
       "    <tr>\n",
       "      <th>συνασπισμος ριζοσπαστικης αριστερας</th>\n",
       "      <td>121608</td>\n",
       "    </tr>\n",
       "    <tr>\n",
       "      <th>κομμουνιστικο κομμα ελλαδας</th>\n",
       "      <td>56005</td>\n",
       "    </tr>\n",
       "    <tr>\n",
       "      <th>λαικος ορθοδοξος συναγερμος</th>\n",
       "      <td>23391</td>\n",
       "    </tr>\n",
       "    <tr>\n",
       "      <th>ανεξαρτητοι (εκτος κομματος)</th>\n",
       "      <td>22302</td>\n",
       "    </tr>\n",
       "    <tr>\n",
       "      <th>δημοκρατικη συμπαραταξη (πανελληνιο σοσιαλιστικο κινημα - δημοκρατικη αριστερα)</th>\n",
       "      <td>20023</td>\n",
       "    </tr>\n",
       "    <tr>\n",
       "      <th>βουλη</th>\n",
       "      <td>19957</td>\n",
       "    </tr>\n",
       "    <tr>\n",
       "      <th>ανεξαρτητοι ελληνες - πανος καμμενος</th>\n",
       "      <td>13728</td>\n",
       "    </tr>\n",
       "    <tr>\n",
       "      <th>λαικος συνδεσος - χρυση αυγη</th>\n",
       "      <td>11175</td>\n",
       "    </tr>\n",
       "    <tr>\n",
       "      <th>ενωση κεντρωων</th>\n",
       "      <td>7577</td>\n",
       "    </tr>\n",
       "    <tr>\n",
       "      <th>το ποταμι</th>\n",
       "      <td>5593</td>\n",
       "    </tr>\n",
       "    <tr>\n",
       "      <th>δημοκρατικη αριστερα</th>\n",
       "      <td>4170</td>\n",
       "    </tr>\n",
       "    <tr>\n",
       "      <th>ανεξαρτητοι ελληνες εθνικη πατριωτικη δημοκρατικη συμμαχια</th>\n",
       "      <td>3993</td>\n",
       "    </tr>\n",
       "    <tr>\n",
       "      <th>ανεξαρτητοι δημοκρατικοι βουλευτες</th>\n",
       "      <td>1741</td>\n",
       "    </tr>\n",
       "    <tr>\n",
       "      <th>συνασπισμος της αριστερας των κινηματων και της οικολογιας</th>\n",
       "      <td>352</td>\n",
       "    </tr>\n",
       "    <tr>\n",
       "      <th>λαικη ενοτητα</th>\n",
       "      <td>326</td>\n",
       "    </tr>\n",
       "  </tbody>\n",
       "</table>\n",
       "</div>"
      ],
      "text/plain": [
       "                                                    cleaned_speech\n",
       "political_party                                                   \n",
       "νεα δημοκρατια                                              221421\n",
       "πανελληνιο σοσιαλιστικο κινημα                              130181\n",
       "συνασπισμος ριζοσπαστικης αριστερας                         121608\n",
       "κομμουνιστικο κομμα ελλαδας                                  56005\n",
       "λαικος ορθοδοξος συναγερμος                                  23391\n",
       "ανεξαρτητοι (εκτος κομματος)                                 22302\n",
       "δημοκρατικη συμπαραταξη (πανελληνιο σοσιαλιστικ...           20023\n",
       "βουλη                                                        19957\n",
       "ανεξαρτητοι ελληνες - πανος καμμενος                         13728\n",
       "λαικος συνδεσος - χρυση αυγη                                 11175\n",
       "ενωση κεντρωων                                                7577\n",
       "το ποταμι                                                     5593\n",
       "δημοκρατικη αριστερα                                          4170\n",
       "ανεξαρτητοι ελληνες εθνικη πατριωτικη δημοκρατι...            3993\n",
       "ανεξαρτητοι δημοκρατικοι βουλευτες                            1741\n",
       "συνασπισμος της αριστερας των κινηματων και της...             352\n",
       "λαικη ενοτητα                                                  326"
      ]
     },
     "execution_count": 54,
     "metadata": {},
     "output_type": "execute_result"
    }
   ],
   "source": [
    "proceedingsTop8.groupby('political_party').count().sort_values(by='cleaned_speech', ascending=False)"
   ]
  },
  {
   "cell_type": "code",
   "execution_count": 55,
   "metadata": {},
   "outputs": [],
   "source": [
    "proceedingsTop8 = proceedingsTop8[proceedingsTop8.political_party.isin(['νεα δημοκρατια',\n",
    "                                       'πανελληνιο σοσιαλιστικο κινημα',\n",
    "                                       'συνασπισμος ριζοσπαστικης αριστερας',\n",
    "                                       'κομμουνιστικο κομμα ελλαδας',\n",
    "                                       'λαικος ορθοδοξος συναγερμος',\n",
    "                                       'ανεξαρτητοι (εκτος κομματος)',\n",
    "                                       'δημοκρατικη συμπαραταξη (πανελληνιο σοσιαλιστικο κινημα - δημοκρατικη αριστερα)',\n",
    "                                       'ανεξαρτητοι ελληνες - πανος καμμενος'])]"
   ]
  },
  {
   "cell_type": "code",
   "execution_count": 56,
   "metadata": {},
   "outputs": [],
   "source": [
    "X = proceedingsTop8['cleaned_speech']\n",
    "y = proceedingsTop8['political_party']"
   ]
  },
  {
   "cell_type": "code",
   "execution_count": 57,
   "metadata": {},
   "outputs": [
    {
     "data": {
      "text/plain": [
       "((456494,), (152165,))"
      ]
     },
     "execution_count": 57,
     "metadata": {},
     "output_type": "execute_result"
    }
   ],
   "source": [
    "X_train, X_test, y_train, y_test = train_test_split(X, y, test_size = 0.25, random_state = 42)\n",
    "X_train.shape, X_test.shape"
   ]
  },
  {
   "cell_type": "code",
   "execution_count": 27,
   "metadata": {},
   "outputs": [],
   "source": [
    "tfidf = TfidfVectorizer()"
   ]
  },
  {
   "cell_type": "code",
   "execution_count": 28,
   "metadata": {},
   "outputs": [],
   "source": [
    "parameters = {\n",
    "    'tfidf__max_df': (0.50, 0.80),\n",
    "    'tfidf__ngram_range': [(1, 2), (2, 2)],\n",
    "    'clf__alpha': (0.001, 0.01, 0.1, 0, 1, 1.5)\n",
    "}"
   ]
  },
  {
   "cell_type": "code",
   "execution_count": 29,
   "metadata": {},
   "outputs": [],
   "source": [
    "clf = Pipeline([('tfidf',tfidf),\n",
    "                     ('clf', MultinomialNB())])"
   ]
  },
  {
   "cell_type": "code",
   "execution_count": 30,
   "metadata": {},
   "outputs": [],
   "source": [
    "GridMNB = GridSearchCV(clf, parameters, n_jobs=5, cv=5,verbose=100)"
   ]
  },
  {
   "cell_type": "code",
   "execution_count": 31,
   "metadata": {},
   "outputs": [
    {
     "name": "stdout",
     "output_type": "stream",
     "text": [
      "Fitting 5 folds for each of 24 candidates, totalling 120 fits\n",
      "[Parallel(n_jobs=5)]: Using backend LokyBackend with 5 concurrent workers.\n",
      "[Parallel(n_jobs=5)]: Done   1 tasks      | elapsed:  4.7min\n",
      "[Parallel(n_jobs=5)]: Done   2 tasks      | elapsed:  4.7min\n",
      "[Parallel(n_jobs=5)]: Done   3 tasks      | elapsed:  5.0min\n",
      "[Parallel(n_jobs=5)]: Done   4 tasks      | elapsed:  5.3min\n",
      "[Parallel(n_jobs=5)]: Done   5 tasks      | elapsed:  5.3min\n",
      "[Parallel(n_jobs=5)]: Done   6 tasks      | elapsed:  8.1min\n",
      "[Parallel(n_jobs=5)]: Done   7 tasks      | elapsed:  8.1min\n",
      "[Parallel(n_jobs=5)]: Done   8 tasks      | elapsed:  8.2min\n",
      "[Parallel(n_jobs=5)]: Done   9 tasks      | elapsed:  8.6min\n",
      "[Parallel(n_jobs=5)]: Done  10 tasks      | elapsed:  8.6min\n",
      "[Parallel(n_jobs=5)]: Done  11 tasks      | elapsed: 12.9min\n",
      "[Parallel(n_jobs=5)]: Done  12 tasks      | elapsed: 13.2min\n",
      "[Parallel(n_jobs=5)]: Done  13 tasks      | elapsed: 13.2min\n",
      "[Parallel(n_jobs=5)]: Done  14 tasks      | elapsed: 13.2min\n",
      "[Parallel(n_jobs=5)]: Done  15 tasks      | elapsed: 13.2min\n",
      "[Parallel(n_jobs=5)]: Done  16 tasks      | elapsed: 16.7min\n",
      "[Parallel(n_jobs=5)]: Done  17 tasks      | elapsed: 16.8min\n",
      "[Parallel(n_jobs=5)]: Done  18 tasks      | elapsed: 16.8min\n",
      "[Parallel(n_jobs=5)]: Done  19 tasks      | elapsed: 16.8min\n",
      "[Parallel(n_jobs=5)]: Done  20 tasks      | elapsed: 16.9min\n",
      "[Parallel(n_jobs=5)]: Done  21 tasks      | elapsed: 20.9min\n",
      "[Parallel(n_jobs=5)]: Done  22 tasks      | elapsed: 22.1min\n",
      "[Parallel(n_jobs=5)]: Done  23 tasks      | elapsed: 22.2min\n",
      "[Parallel(n_jobs=5)]: Done  24 tasks      | elapsed: 22.2min\n",
      "[Parallel(n_jobs=5)]: Done  25 tasks      | elapsed: 22.4min\n",
      "[Parallel(n_jobs=5)]: Done  26 tasks      | elapsed: 24.5min\n",
      "[Parallel(n_jobs=5)]: Done  27 tasks      | elapsed: 25.7min\n",
      "[Parallel(n_jobs=5)]: Done  28 tasks      | elapsed: 25.8min\n",
      "[Parallel(n_jobs=5)]: Done  29 tasks      | elapsed: 26.0min\n",
      "[Parallel(n_jobs=5)]: Done  30 tasks      | elapsed: 26.3min\n",
      "[Parallel(n_jobs=5)]: Done  31 tasks      | elapsed: 29.4min\n",
      "[Parallel(n_jobs=5)]: Done  32 tasks      | elapsed: 29.8min\n",
      "[Parallel(n_jobs=5)]: Done  33 tasks      | elapsed: 30.4min\n",
      "[Parallel(n_jobs=5)]: Done  34 tasks      | elapsed: 30.6min\n",
      "[Parallel(n_jobs=5)]: Done  35 tasks      | elapsed: 30.6min\n",
      "[Parallel(n_jobs=5)]: Done  36 tasks      | elapsed: 33.2min\n",
      "[Parallel(n_jobs=5)]: Done  37 tasks      | elapsed: 33.9min\n",
      "[Parallel(n_jobs=5)]: Done  38 tasks      | elapsed: 33.9min\n",
      "[Parallel(n_jobs=5)]: Done  39 tasks      | elapsed: 33.9min\n",
      "[Parallel(n_jobs=5)]: Done  40 tasks      | elapsed: 33.9min\n",
      "[Parallel(n_jobs=5)]: Done  41 tasks      | elapsed: 38.2min\n",
      "[Parallel(n_jobs=5)]: Done  42 tasks      | elapsed: 38.8min\n",
      "[Parallel(n_jobs=5)]: Done  43 tasks      | elapsed: 38.8min\n",
      "[Parallel(n_jobs=5)]: Done  44 tasks      | elapsed: 38.8min\n",
      "[Parallel(n_jobs=5)]: Done  45 tasks      | elapsed: 38.8min\n",
      "[Parallel(n_jobs=5)]: Done  46 tasks      | elapsed: 41.2min\n",
      "[Parallel(n_jobs=5)]: Done  47 tasks      | elapsed: 42.0min\n",
      "[Parallel(n_jobs=5)]: Done  48 tasks      | elapsed: 42.0min\n",
      "[Parallel(n_jobs=5)]: Done  49 tasks      | elapsed: 42.0min\n",
      "[Parallel(n_jobs=5)]: Done  50 tasks      | elapsed: 42.1min\n",
      "[Parallel(n_jobs=5)]: Done  51 tasks      | elapsed: 46.0min\n",
      "[Parallel(n_jobs=5)]: Done  52 tasks      | elapsed: 46.1min\n",
      "[Parallel(n_jobs=5)]: Done  53 tasks      | elapsed: 46.2min\n",
      "[Parallel(n_jobs=5)]: Done  54 tasks      | elapsed: 46.2min\n",
      "[Parallel(n_jobs=5)]: Done  55 tasks      | elapsed: 46.6min\n",
      "[Parallel(n_jobs=5)]: Done  56 tasks      | elapsed: 49.5min\n",
      "[Parallel(n_jobs=5)]: Done  57 tasks      | elapsed: 49.6min\n",
      "[Parallel(n_jobs=5)]: Done  58 tasks      | elapsed: 50.1min\n",
      "[Parallel(n_jobs=5)]: Done  59 tasks      | elapsed: 50.1min\n",
      "[Parallel(n_jobs=5)]: Done  60 tasks      | elapsed: 50.1min\n",
      "[Parallel(n_jobs=5)]: Done  61 tasks      | elapsed: 53.7min\n",
      "[Parallel(n_jobs=5)]: Done  62 tasks      | elapsed: 54.2min\n",
      "[Parallel(n_jobs=5)]: Done  63 tasks      | elapsed: 54.2min\n",
      "[Parallel(n_jobs=5)]: Done  64 tasks      | elapsed: 54.2min\n",
      "[Parallel(n_jobs=5)]: Done  65 tasks      | elapsed: 54.8min\n",
      "[Parallel(n_jobs=5)]: Done  66 tasks      | elapsed: 56.7min\n",
      "[Parallel(n_jobs=5)]: Done  67 tasks      | elapsed: 57.2min\n",
      "[Parallel(n_jobs=5)]: Done  68 tasks      | elapsed: 57.2min\n",
      "[Parallel(n_jobs=5)]: Done  69 tasks      | elapsed: 57.3min\n",
      "[Parallel(n_jobs=5)]: Done  70 tasks      | elapsed: 58.0min\n",
      "[Parallel(n_jobs=5)]: Done  71 tasks      | elapsed: 61.2min\n",
      "[Parallel(n_jobs=5)]: Done  72 tasks      | elapsed: 61.3min\n",
      "[Parallel(n_jobs=5)]: Done  73 tasks      | elapsed: 61.3min\n",
      "[Parallel(n_jobs=5)]: Done  74 tasks      | elapsed: 61.4min\n",
      "[Parallel(n_jobs=5)]: Done  75 tasks      | elapsed: 63.3min\n",
      "[Parallel(n_jobs=5)]: Done  76 tasks      | elapsed: 64.6min\n",
      "[Parallel(n_jobs=5)]: Done  77 tasks      | elapsed: 65.3min\n",
      "[Parallel(n_jobs=5)]: Done  78 tasks      | elapsed: 65.3min\n",
      "[Parallel(n_jobs=5)]: Done  79 tasks      | elapsed: 65.3min\n",
      "[Parallel(n_jobs=5)]: Done  80 tasks      | elapsed: 66.0min\n",
      "[Parallel(n_jobs=5)]: Done  81 tasks      | elapsed: 69.0min\n",
      "[Parallel(n_jobs=5)]: Done  82 tasks      | elapsed: 69.4min\n",
      "[Parallel(n_jobs=5)]: Done  83 tasks      | elapsed: 69.9min\n",
      "[Parallel(n_jobs=5)]: Done  84 tasks      | elapsed: 69.9min\n",
      "[Parallel(n_jobs=5)]: Done  85 tasks      | elapsed: 70.0min\n",
      "[Parallel(n_jobs=5)]: Done  86 tasks      | elapsed: 72.1min\n",
      "[Parallel(n_jobs=5)]: Done  87 tasks      | elapsed: 73.2min\n",
      "[Parallel(n_jobs=5)]: Done  88 tasks      | elapsed: 73.8min\n",
      "[Parallel(n_jobs=5)]: Done  89 tasks      | elapsed: 73.8min\n",
      "[Parallel(n_jobs=5)]: Done  90 tasks      | elapsed: 73.8min\n",
      "[Parallel(n_jobs=5)]: Done  91 tasks      | elapsed: 75.8min\n",
      "[Parallel(n_jobs=5)]: Done  92 tasks      | elapsed: 78.2min\n",
      "[Parallel(n_jobs=5)]: Done  93 tasks      | elapsed: 78.3min\n",
      "[Parallel(n_jobs=5)]: Done  94 tasks      | elapsed: 78.3min\n",
      "[Parallel(n_jobs=5)]: Done  95 tasks      | elapsed: 78.5min\n",
      "[Parallel(n_jobs=5)]: Done  96 tasks      | elapsed: 79.4min\n",
      "[Parallel(n_jobs=5)]: Done  97 tasks      | elapsed: 81.5min\n",
      "[Parallel(n_jobs=5)]: Done  98 tasks      | elapsed: 81.6min\n",
      "[Parallel(n_jobs=5)]: Done  99 tasks      | elapsed: 81.6min\n",
      "[Parallel(n_jobs=5)]: Done 100 tasks      | elapsed: 81.7min\n",
      "[Parallel(n_jobs=5)]: Done 101 tasks      | elapsed: 83.7min\n",
      "[Parallel(n_jobs=5)]: Done 102 tasks      | elapsed: 85.5min\n",
      "[Parallel(n_jobs=5)]: Done 103 tasks      | elapsed: 85.8min\n",
      "[Parallel(n_jobs=5)]: Done 104 tasks      | elapsed: 85.8min\n",
      "[Parallel(n_jobs=5)]: Done 105 tasks      | elapsed: 85.8min\n",
      "[Parallel(n_jobs=5)]: Done 106 tasks      | elapsed: 86.8min\n",
      "[Parallel(n_jobs=5)]: Done 107 tasks      | elapsed: 89.2min\n",
      "[Parallel(n_jobs=5)]: Done 108 tasks      | elapsed: 89.3min\n",
      "[Parallel(n_jobs=5)]: Done 109 tasks      | elapsed: 89.3min\n",
      "[Parallel(n_jobs=5)]: Done 110 tasks      | elapsed: 89.4min\n",
      "[Parallel(n_jobs=5)]: Done 111 tasks      | elapsed: 90.3min\n",
      "[Parallel(n_jobs=5)]: Done 113 out of 120 | elapsed: 93.9min remaining:  5.8min\n",
      "[Parallel(n_jobs=5)]: Done 115 out of 120 | elapsed: 94.1min remaining:  4.1min\n",
      "[Parallel(n_jobs=5)]: Done 117 out of 120 | elapsed: 95.8min remaining:  2.5min\n",
      "[Parallel(n_jobs=5)]: Done 120 out of 120 | elapsed: 96.6min finished\n"
     ]
    }
   ],
   "source": [
    "GridMNB = GridMNB.fit(X_train, y_train)"
   ]
  },
  {
   "cell_type": "code",
   "execution_count": 32,
   "metadata": {},
   "outputs": [
    {
     "data": {
      "text/plain": [
       "Pipeline(steps=[('tfidf', TfidfVectorizer(max_df=0.5, ngram_range=(1, 2))),\n",
       "                ('clf', MultinomialNB(alpha=0.01))])"
      ]
     },
     "execution_count": 32,
     "metadata": {},
     "output_type": "execute_result"
    }
   ],
   "source": [
    "GridMNB.best_estimator_"
   ]
  },
  {
   "cell_type": "code",
   "execution_count": 33,
   "metadata": {},
   "outputs": [
    {
     "data": {
      "text/plain": [
       "{'clf__alpha': 0.01, 'tfidf__max_df': 0.5, 'tfidf__ngram_range': (1, 2)}"
      ]
     },
     "execution_count": 33,
     "metadata": {},
     "output_type": "execute_result"
    }
   ],
   "source": [
    "GridMNB.best_params_"
   ]
  },
  {
   "cell_type": "markdown",
   "metadata": {},
   "source": [
    "<h1>Best Parameters with MultinomialNB (top 8 parties)</h1>"
   ]
  },
  {
   "cell_type": "code",
   "execution_count": 58,
   "metadata": {},
   "outputs": [],
   "source": [
    "tfidf = TfidfVectorizer(max_df=0.5,ngram_range=(1, 2))\n",
    "classifier =  MultinomialNB(alpha=0.01)"
   ]
  },
  {
   "cell_type": "code",
   "execution_count": 59,
   "metadata": {},
   "outputs": [],
   "source": [
    "clf = Pipeline([('tfidf', tfidf), ('clf', classifier)],verbose=100)"
   ]
  },
  {
   "cell_type": "code",
   "execution_count": 60,
   "metadata": {},
   "outputs": [
    {
     "name": "stdout",
     "output_type": "stream",
     "text": [
      "[Pipeline] ............. (step 1 of 2) Processing tfidf, total= 2.3min\n",
      "[Pipeline] ............... (step 2 of 2) Processing clf, total=   6.7s\n"
     ]
    },
    {
     "data": {
      "text/plain": [
       "Pipeline(steps=[('tfidf', TfidfVectorizer(max_df=0.5, ngram_range=(1, 2))),\n",
       "                ('clf', MultinomialNB(alpha=0.01))],\n",
       "         verbose=100)"
      ]
     },
     "execution_count": 60,
     "metadata": {},
     "output_type": "execute_result"
    }
   ],
   "source": [
    "clf.fit(X_train, y_train)"
   ]
  },
  {
   "cell_type": "code",
   "execution_count": 61,
   "metadata": {},
   "outputs": [],
   "source": [
    "y_pred = clf.predict(X_test)"
   ]
  },
  {
   "cell_type": "code",
   "execution_count": 62,
   "metadata": {},
   "outputs": [
    {
     "name": "stdout",
     "output_type": "stream",
     "text": [
      "                                                                                 precision    recall  f1-score   support\n",
      "\n",
      "                                                   ανεξαρτητοι (εκτος κομματος)       0.48      0.02      0.04      5520\n",
      "                                           ανεξαρτητοι ελληνες - πανος καμμενος       0.51      0.04      0.07      3398\n",
      "δημοκρατικη συμπαραταξη (πανελληνιο σοσιαλιστικο κινημα - δημοκρατικη αριστερα)       0.57      0.04      0.07      4986\n",
      "                                                    κομμουνιστικο κομμα ελλαδας       0.52      0.49      0.51     13958\n",
      "                                                    λαικος ορθοδοξος συναγερμος       0.64      0.07      0.13      5934\n",
      "                                                                 νεα δημοκρατια       0.50      0.78      0.61     55120\n",
      "                                                 πανελληνιο σοσιαλιστικο κινημα       0.46      0.42      0.44     32623\n",
      "                                            συνασπισμος ριζοσπαστικης αριστερας       0.50      0.36      0.42     30626\n",
      "\n",
      "                                                                       accuracy                           0.50    152165\n",
      "                                                                      macro avg       0.52      0.28      0.28    152165\n",
      "                                                                   weighted avg       0.50      0.50      0.46    152165\n",
      "\n"
     ]
    }
   ],
   "source": [
    "print(classification_report(y_test, y_pred))"
   ]
  },
  {
   "cell_type": "markdown",
   "metadata": {},
   "source": [
    "We can see that despite the dataset being smaller by 100K and classes halved, the results are almost the same."
   ]
  },
  {
   "cell_type": "markdown",
   "metadata": {},
   "source": [
    "This is why we will keep the dataset with all parties."
   ]
  },
  {
   "cell_type": "code",
   "execution_count": 64,
   "metadata": {},
   "outputs": [],
   "source": [
    "X = proceedings['cleaned_speech']\n",
    "y = proceedings['political_party']"
   ]
  },
  {
   "cell_type": "code",
   "execution_count": 65,
   "metadata": {},
   "outputs": [
    {
     "data": {
      "text/plain": [
       "((497657,), (165886,))"
      ]
     },
     "execution_count": 65,
     "metadata": {},
     "output_type": "execute_result"
    }
   ],
   "source": [
    "X_train, X_test, y_train, y_test = train_test_split(X, y, test_size = 0.25, random_state = 42)\n",
    "X_train.shape, X_test.shape"
   ]
  },
  {
   "cell_type": "markdown",
   "metadata": {},
   "source": [
    "<h1>Grid Search with SGD</h1>"
   ]
  },
  {
   "cell_type": "markdown",
   "metadata": {},
   "source": [
    "For SGD I decided to run the Grid Search with the following parameters:  \n",
    "alpha is a regularization term.  \n",
    "tol is a stopping criterion.\n",
    "For the tfidf vectorizer:  \n",
    "max df ignores terms that appear in more than X% of speeches.  \n",
    "ngram range takes unigrams(1,2) and bigrams(2,2).  "
   ]
  },
  {
   "cell_type": "code",
   "execution_count": 20,
   "metadata": {},
   "outputs": [],
   "source": [
    "tfidf = TfidfVectorizer()"
   ]
  },
  {
   "cell_type": "code",
   "execution_count": 21,
   "metadata": {},
   "outputs": [],
   "source": [
    "parameters = {\n",
    "    'tfidf__max_df': (0.50, 0.80),\n",
    "    'tfidf__ngram_range': [(1, 2), (2, 2)],\n",
    "    'clf__alpha': (0.0001, 0.001, 0.01),\n",
    "    'clf__tol': (0.01, 0.001, 0.0001)\n",
    "}"
   ]
  },
  {
   "cell_type": "code",
   "execution_count": 22,
   "metadata": {},
   "outputs": [],
   "source": [
    "clf = Pipeline([('tfidf',tfidf),\n",
    "                     ('clf', SGDClassifier())])"
   ]
  },
  {
   "cell_type": "code",
   "execution_count": 23,
   "metadata": {},
   "outputs": [],
   "source": [
    "GridSGD = GridSearchCV(clf, parameters, n_jobs=5, cv=5,verbose=100)"
   ]
  },
  {
   "cell_type": "code",
   "execution_count": 24,
   "metadata": {},
   "outputs": [
    {
     "name": "stdout",
     "output_type": "stream",
     "text": [
      "Fitting 5 folds for each of 36 candidates, totalling 180 fits\n",
      "[Parallel(n_jobs=5)]: Using backend LokyBackend with 5 concurrent workers.\n",
      "[Parallel(n_jobs=5)]: Done   1 tasks      | elapsed:  6.7min\n",
      "[Parallel(n_jobs=5)]: Done   2 tasks      | elapsed:  6.7min\n",
      "[Parallel(n_jobs=5)]: Done   3 tasks      | elapsed:  7.6min\n",
      "[Parallel(n_jobs=5)]: Done   4 tasks      | elapsed:  7.7min\n",
      "[Parallel(n_jobs=5)]: Done   5 tasks      | elapsed:  8.1min\n",
      "[Parallel(n_jobs=5)]: Done   6 tasks      | elapsed: 12.2min\n",
      "[Parallel(n_jobs=5)]: Done   7 tasks      | elapsed: 12.8min\n",
      "[Parallel(n_jobs=5)]: Done   8 tasks      | elapsed: 13.0min\n",
      "[Parallel(n_jobs=5)]: Done   9 tasks      | elapsed: 13.2min\n",
      "[Parallel(n_jobs=5)]: Done  10 tasks      | elapsed: 13.5min\n",
      "[Parallel(n_jobs=5)]: Done  11 tasks      | elapsed: 19.2min\n",
      "[Parallel(n_jobs=5)]: Done  12 tasks      | elapsed: 19.3min\n",
      "[Parallel(n_jobs=5)]: Done  13 tasks      | elapsed: 20.0min\n",
      "[Parallel(n_jobs=5)]: Done  14 tasks      | elapsed: 20.4min\n",
      "[Parallel(n_jobs=5)]: Done  15 tasks      | elapsed: 21.1min\n",
      "[Parallel(n_jobs=5)]: Done  16 tasks      | elapsed: 25.0min\n",
      "[Parallel(n_jobs=5)]: Done  17 tasks      | elapsed: 25.5min\n",
      "[Parallel(n_jobs=5)]: Done  18 tasks      | elapsed: 25.5min\n",
      "[Parallel(n_jobs=5)]: Done  19 tasks      | elapsed: 25.8min\n",
      "[Parallel(n_jobs=5)]: Done  20 tasks      | elapsed: 26.1min\n",
      "[Parallel(n_jobs=5)]: Done  21 tasks      | elapsed: 31.0min\n",
      "[Parallel(n_jobs=5)]: Done  22 tasks      | elapsed: 32.4min\n",
      "[Parallel(n_jobs=5)]: Done  23 tasks      | elapsed: 32.5min\n",
      "[Parallel(n_jobs=5)]: Done  24 tasks      | elapsed: 33.2min\n",
      "[Parallel(n_jobs=5)]: Done  25 tasks      | elapsed: 33.2min\n",
      "[Parallel(n_jobs=5)]: Done  26 tasks      | elapsed: 36.7min\n",
      "[Parallel(n_jobs=5)]: Done  27 tasks      | elapsed: 37.4min\n",
      "[Parallel(n_jobs=5)]: Done  28 tasks      | elapsed: 37.8min\n",
      "[Parallel(n_jobs=5)]: Done  29 tasks      | elapsed: 37.8min\n",
      "[Parallel(n_jobs=5)]: Done  30 tasks      | elapsed: 37.9min\n",
      "[Parallel(n_jobs=5)]: Done  31 tasks      | elapsed: 43.9min\n",
      "[Parallel(n_jobs=5)]: Done  32 tasks      | elapsed: 44.8min\n",
      "[Parallel(n_jobs=5)]: Done  33 tasks      | elapsed: 44.8min\n",
      "[Parallel(n_jobs=5)]: Done  34 tasks      | elapsed: 45.5min\n",
      "[Parallel(n_jobs=5)]: Done  35 tasks      | elapsed: 45.5min\n",
      "[Parallel(n_jobs=5)]: Done  36 tasks      | elapsed: 49.1min\n",
      "[Parallel(n_jobs=5)]: Done  37 tasks      | elapsed: 49.9min\n",
      "[Parallel(n_jobs=5)]: Done  38 tasks      | elapsed: 50.2min\n",
      "[Parallel(n_jobs=5)]: Done  39 tasks      | elapsed: 50.7min\n",
      "[Parallel(n_jobs=5)]: Done  40 tasks      | elapsed: 50.7min\n",
      "[Parallel(n_jobs=5)]: Done  41 tasks      | elapsed: 56.0min\n",
      "[Parallel(n_jobs=5)]: Done  42 tasks      | elapsed: 56.8min\n",
      "[Parallel(n_jobs=5)]: Done  43 tasks      | elapsed: 56.9min\n",
      "[Parallel(n_jobs=5)]: Done  44 tasks      | elapsed: 56.9min\n",
      "[Parallel(n_jobs=5)]: Done  45 tasks      | elapsed: 57.2min\n",
      "[Parallel(n_jobs=5)]: Done  46 tasks      | elapsed: 61.8min\n",
      "[Parallel(n_jobs=5)]: Done  47 tasks      | elapsed: 62.6min\n",
      "[Parallel(n_jobs=5)]: Done  48 tasks      | elapsed: 63.3min\n",
      "[Parallel(n_jobs=5)]: Done  49 tasks      | elapsed: 63.3min\n",
      "[Parallel(n_jobs=5)]: Done  50 tasks      | elapsed: 63.4min\n",
      "[Parallel(n_jobs=5)]: Done  51 tasks      | elapsed: 68.2min\n",
      "[Parallel(n_jobs=5)]: Done  52 tasks      | elapsed: 69.8min\n",
      "[Parallel(n_jobs=5)]: Done  53 tasks      | elapsed: 69.9min\n",
      "[Parallel(n_jobs=5)]: Done  54 tasks      | elapsed: 70.7min\n",
      "[Parallel(n_jobs=5)]: Done  55 tasks      | elapsed: 71.5min\n",
      "[Parallel(n_jobs=5)]: Done  56 tasks      | elapsed: 72.3min\n",
      "[Parallel(n_jobs=5)]: Done  57 tasks      | elapsed: 76.7min\n",
      "[Parallel(n_jobs=5)]: Done  58 tasks      | elapsed: 76.7min\n",
      "[Parallel(n_jobs=5)]: Done  59 tasks      | elapsed: 76.8min\n",
      "[Parallel(n_jobs=5)]: Done  60 tasks      | elapsed: 77.2min\n",
      "[Parallel(n_jobs=5)]: Done  61 tasks      | elapsed: 77.4min\n",
      "[Parallel(n_jobs=5)]: Done  62 tasks      | elapsed: 84.1min\n",
      "[Parallel(n_jobs=5)]: Done  63 tasks      | elapsed: 84.5min\n",
      "[Parallel(n_jobs=5)]: Done  64 tasks      | elapsed: 85.7min\n",
      "[Parallel(n_jobs=5)]: Done  65 tasks      | elapsed: 86.7min\n",
      "[Parallel(n_jobs=5)]: Done  66 tasks      | elapsed: 86.8min\n",
      "[Parallel(n_jobs=5)]: Done  67 tasks      | elapsed: 87.4min\n",
      "[Parallel(n_jobs=5)]: Done  68 tasks      | elapsed: 88.0min\n",
      "[Parallel(n_jobs=5)]: Done  69 tasks      | elapsed: 92.3min\n",
      "[Parallel(n_jobs=5)]: Done  70 tasks      | elapsed: 92.3min\n",
      "[Parallel(n_jobs=5)]: Done  71 tasks      | elapsed: 93.0min\n",
      "[Parallel(n_jobs=5)]: Done  72 tasks      | elapsed: 93.3min\n",
      "[Parallel(n_jobs=5)]: Done  73 tasks      | elapsed: 94.3min\n",
      "[Parallel(n_jobs=5)]: Done  74 tasks      | elapsed: 98.5min\n",
      "[Parallel(n_jobs=5)]: Done  75 tasks      | elapsed: 98.7min\n",
      "[Parallel(n_jobs=5)]: Done  76 tasks      | elapsed: 99.0min\n",
      "[Parallel(n_jobs=5)]: Done  77 tasks      | elapsed: 99.5min\n",
      "[Parallel(n_jobs=5)]: Done  78 tasks      | elapsed: 99.5min\n",
      "[Parallel(n_jobs=5)]: Done  79 tasks      | elapsed: 104.2min\n",
      "[Parallel(n_jobs=5)]: Done  80 tasks      | elapsed: 104.4min\n",
      "[Parallel(n_jobs=5)]: Done  81 tasks      | elapsed: 104.8min\n",
      "[Parallel(n_jobs=5)]: Done  82 tasks      | elapsed: 105.0min\n",
      "[Parallel(n_jobs=5)]: Done  83 tasks      | elapsed: 105.5min\n",
      "[Parallel(n_jobs=5)]: Done  84 tasks      | elapsed: 111.3min\n",
      "[Parallel(n_jobs=5)]: Done  85 tasks      | elapsed: 112.1min\n",
      "[Parallel(n_jobs=5)]: Done  86 tasks      | elapsed: 112.1min\n",
      "[Parallel(n_jobs=5)]: Done  87 tasks      | elapsed: 112.2min\n",
      "[Parallel(n_jobs=5)]: Done  88 tasks      | elapsed: 113.7min\n",
      "[Parallel(n_jobs=5)]: Done  89 tasks      | elapsed: 114.9min\n",
      "[Parallel(n_jobs=5)]: Done  90 tasks      | elapsed: 117.9min\n",
      "[Parallel(n_jobs=5)]: Done  91 tasks      | elapsed: 119.0min\n",
      "[Parallel(n_jobs=5)]: Done  92 tasks      | elapsed: 119.3min\n",
      "[Parallel(n_jobs=5)]: Done  93 tasks      | elapsed: 120.1min\n",
      "[Parallel(n_jobs=5)]: Done  94 tasks      | elapsed: 120.2min\n",
      "[Parallel(n_jobs=5)]: Done  95 tasks      | elapsed: 124.2min\n",
      "[Parallel(n_jobs=5)]: Done  96 tasks      | elapsed: 124.7min\n",
      "[Parallel(n_jobs=5)]: Done  97 tasks      | elapsed: 125.6min\n",
      "[Parallel(n_jobs=5)]: Done  98 tasks      | elapsed: 126.4min\n",
      "[Parallel(n_jobs=5)]: Done  99 tasks      | elapsed: 126.4min\n",
      "[Parallel(n_jobs=5)]: Done 100 tasks      | elapsed: 127.6min\n",
      "[Parallel(n_jobs=5)]: Done 101 tasks      | elapsed: 131.4min\n",
      "[Parallel(n_jobs=5)]: Done 102 tasks      | elapsed: 133.2min\n",
      "[Parallel(n_jobs=5)]: Done 103 tasks      | elapsed: 133.3min\n",
      "[Parallel(n_jobs=5)]: Done 104 tasks      | elapsed: 133.3min\n",
      "[Parallel(n_jobs=5)]: Done 105 tasks      | elapsed: 134.2min\n",
      "[Parallel(n_jobs=5)]: Done 106 tasks      | elapsed: 136.8min\n",
      "[Parallel(n_jobs=5)]: Done 107 tasks      | elapsed: 138.8min\n",
      "[Parallel(n_jobs=5)]: Done 108 tasks      | elapsed: 138.9min\n",
      "[Parallel(n_jobs=5)]: Done 109 tasks      | elapsed: 139.3min\n",
      "[Parallel(n_jobs=5)]: Done 110 tasks      | elapsed: 139.4min\n",
      "[Parallel(n_jobs=5)]: Done 111 tasks      | elapsed: 143.9min\n",
      "[Parallel(n_jobs=5)]: Done 112 tasks      | elapsed: 144.8min\n",
      "[Parallel(n_jobs=5)]: Done 113 tasks      | elapsed: 145.3min\n",
      "[Parallel(n_jobs=5)]: Done 114 tasks      | elapsed: 146.1min\n",
      "[Parallel(n_jobs=5)]: Done 115 tasks      | elapsed: 146.1min\n",
      "[Parallel(n_jobs=5)]: Done 116 tasks      | elapsed: 149.8min\n",
      "[Parallel(n_jobs=5)]: Done 117 tasks      | elapsed: 150.6min\n",
      "[Parallel(n_jobs=5)]: Done 118 tasks      | elapsed: 150.6min\n",
      "[Parallel(n_jobs=5)]: Done 119 tasks      | elapsed: 150.8min\n",
      "[Parallel(n_jobs=5)]: Done 120 tasks      | elapsed: 151.0min\n",
      "[Parallel(n_jobs=5)]: Done 121 tasks      | elapsed: 158.4min\n",
      "[Parallel(n_jobs=5)]: Done 122 tasks      | elapsed: 158.8min\n",
      "[Parallel(n_jobs=5)]: Done 123 tasks      | elapsed: 159.0min\n",
      "[Parallel(n_jobs=5)]: Done 124 tasks      | elapsed: 159.6min\n",
      "[Parallel(n_jobs=5)]: Done 125 tasks      | elapsed: 159.7min\n",
      "[Parallel(n_jobs=5)]: Done 126 tasks      | elapsed: 163.6min\n",
      "[Parallel(n_jobs=5)]: Done 127 tasks      | elapsed: 164.3min\n",
      "[Parallel(n_jobs=5)]: Done 128 tasks      | elapsed: 164.3min\n",
      "[Parallel(n_jobs=5)]: Done 129 tasks      | elapsed: 164.5min\n",
      "[Parallel(n_jobs=5)]: Done 130 tasks      | elapsed: 164.6min\n",
      "[Parallel(n_jobs=5)]: Done 131 tasks      | elapsed: 171.5min\n",
      "[Parallel(n_jobs=5)]: Done 132 tasks      | elapsed: 172.1min\n",
      "[Parallel(n_jobs=5)]: Done 133 tasks      | elapsed: 172.2min\n",
      "[Parallel(n_jobs=5)]: Done 134 tasks      | elapsed: 172.7min\n",
      "[Parallel(n_jobs=5)]: Done 135 tasks      | elapsed: 172.7min\n",
      "[Parallel(n_jobs=5)]: Done 136 tasks      | elapsed: 177.3min\n",
      "[Parallel(n_jobs=5)]: Done 137 tasks      | elapsed: 178.0min\n",
      "[Parallel(n_jobs=5)]: Done 138 tasks      | elapsed: 178.0min\n",
      "[Parallel(n_jobs=5)]: Done 139 tasks      | elapsed: 178.3min\n",
      "[Parallel(n_jobs=5)]: Done 140 tasks      | elapsed: 178.4min\n",
      "[Parallel(n_jobs=5)]: Done 141 tasks      | elapsed: 184.3min\n",
      "[Parallel(n_jobs=5)]: Done 142 tasks      | elapsed: 185.7min\n",
      "[Parallel(n_jobs=5)]: Done 143 tasks      | elapsed: 186.2min\n",
      "[Parallel(n_jobs=5)]: Done 144 tasks      | elapsed: 186.3min\n",
      "[Parallel(n_jobs=5)]: Done 145 tasks      | elapsed: 186.8min\n",
      "[Parallel(n_jobs=5)]: Done 146 tasks      | elapsed: 188.3min\n",
      "[Parallel(n_jobs=5)]: Done 147 tasks      | elapsed: 191.4min\n",
      "[Parallel(n_jobs=5)]: Done 148 tasks      | elapsed: 192.6min\n",
      "[Parallel(n_jobs=5)]: Done 149 tasks      | elapsed: 192.6min\n",
      "[Parallel(n_jobs=5)]: Done 150 tasks      | elapsed: 192.6min\n",
      "[Parallel(n_jobs=5)]: Done 151 tasks      | elapsed: 197.8min\n",
      "[Parallel(n_jobs=5)]: Done 152 tasks      | elapsed: 198.6min\n",
      "[Parallel(n_jobs=5)]: Done 153 tasks      | elapsed: 198.7min\n",
      "[Parallel(n_jobs=5)]: Done 154 tasks      | elapsed: 198.7min\n",
      "[Parallel(n_jobs=5)]: Done 155 tasks      | elapsed: 200.2min\n",
      "[Parallel(n_jobs=5)]: Done 156 tasks      | elapsed: 204.3min\n",
      "[Parallel(n_jobs=5)]: Done 157 tasks      | elapsed: 204.8min\n",
      "[Parallel(n_jobs=5)]: Done 158 tasks      | elapsed: 204.8min\n",
      "[Parallel(n_jobs=5)]: Done 159 tasks      | elapsed: 205.4min\n",
      "[Parallel(n_jobs=5)]: Done 160 tasks      | elapsed: 205.5min\n",
      "[Parallel(n_jobs=5)]: Done 161 tasks      | elapsed: 212.4min\n",
      "[Parallel(n_jobs=5)]: Done 162 tasks      | elapsed: 212.4min\n",
      "[Parallel(n_jobs=5)]: Done 163 tasks      | elapsed: 212.9min\n",
      "[Parallel(n_jobs=5)]: Done 164 tasks      | elapsed: 212.9min\n",
      "[Parallel(n_jobs=5)]: Done 165 tasks      | elapsed: 213.7min\n",
      "[Parallel(n_jobs=5)]: Done 166 tasks      | elapsed: 218.2min\n",
      "[Parallel(n_jobs=5)]: Done 167 tasks      | elapsed: 218.2min\n",
      "[Parallel(n_jobs=5)]: Done 168 tasks      | elapsed: 218.7min\n",
      "[Parallel(n_jobs=5)]: Done 169 tasks      | elapsed: 218.8min\n",
      "[Parallel(n_jobs=5)]: Done 170 tasks      | elapsed: 218.8min\n",
      "[Parallel(n_jobs=5)]: Done 171 tasks      | elapsed: 225.2min\n",
      "[Parallel(n_jobs=5)]: Done 173 out of 180 | elapsed: 226.1min remaining:  9.1min\n",
      "[Parallel(n_jobs=5)]: Done 175 out of 180 | elapsed: 226.5min remaining:  6.5min\n",
      "[Parallel(n_jobs=5)]: Done 177 out of 180 | elapsed: 230.6min remaining:  3.9min\n",
      "[Parallel(n_jobs=5)]: Done 180 out of 180 | elapsed: 231.0min finished\n"
     ]
    }
   ],
   "source": [
    "GridSGD = GridSGD.fit(X_train, y_train)"
   ]
  },
  {
   "cell_type": "code",
   "execution_count": 25,
   "metadata": {},
   "outputs": [
    {
     "data": {
      "text/plain": [
       "Pipeline(steps=[('tfidf', TfidfVectorizer(max_df=0.5, ngram_range=(1, 2))),\n",
       "                ('clf', SGDClassifier(tol=0.0001))])"
      ]
     },
     "execution_count": 25,
     "metadata": {},
     "output_type": "execute_result"
    }
   ],
   "source": [
    "GridSGD.best_estimator_"
   ]
  },
  {
   "cell_type": "code",
   "execution_count": 26,
   "metadata": {},
   "outputs": [
    {
     "data": {
      "text/plain": [
       "{'clf__alpha': 0.0001,\n",
       " 'clf__tol': 0.0001,\n",
       " 'tfidf__max_df': 0.5,\n",
       " 'tfidf__ngram_range': (1, 2)}"
      ]
     },
     "execution_count": 26,
     "metadata": {},
     "output_type": "execute_result"
    }
   ],
   "source": [
    "GridSGD.best_params_"
   ]
  },
  {
   "cell_type": "markdown",
   "metadata": {},
   "source": [
    "<h1>Best Parameters with SGD</h1>"
   ]
  },
  {
   "cell_type": "code",
   "execution_count": 27,
   "metadata": {},
   "outputs": [],
   "source": [
    "tfidf = TfidfVectorizer(max_df=0.5, ngram_range=(1, 2))\n",
    "classifier = SGDClassifier(alpha = 0.0001, tol = 0.0001)"
   ]
  },
  {
   "cell_type": "code",
   "execution_count": 28,
   "metadata": {},
   "outputs": [],
   "source": [
    "clf = Pipeline([('tfidf', tfidf), ('clf', classifier)],verbose=100)"
   ]
  },
  {
   "cell_type": "code",
   "execution_count": 29,
   "metadata": {},
   "outputs": [
    {
     "name": "stdout",
     "output_type": "stream",
     "text": [
      "[Pipeline] ............. (step 1 of 2) Processing tfidf, total= 2.5min\n",
      "[Pipeline] ............... (step 2 of 2) Processing clf, total= 1.3min\n"
     ]
    },
    {
     "data": {
      "text/plain": [
       "Pipeline(steps=[('tfidf', TfidfVectorizer(max_df=0.5, ngram_range=(1, 2))),\n",
       "                ('clf', SGDClassifier(tol=0.0001))],\n",
       "         verbose=100)"
      ]
     },
     "execution_count": 29,
     "metadata": {},
     "output_type": "execute_result"
    }
   ],
   "source": [
    "clf.fit(X_train, y_train)"
   ]
  },
  {
   "cell_type": "code",
   "execution_count": 30,
   "metadata": {},
   "outputs": [],
   "source": [
    "y_pred = clf.predict(X_test)"
   ]
  },
  {
   "cell_type": "code",
   "execution_count": 31,
   "metadata": {},
   "outputs": [
    {
     "name": "stdout",
     "output_type": "stream",
     "text": [
      "                                                                                 precision    recall  f1-score   support\n",
      "\n",
      "                                                   ανεξαρτητοι (εκτος κομματος)       0.19      0.02      0.04      5466\n",
      "                                             ανεξαρτητοι δημοκρατικοι βουλευτες       0.14      0.02      0.03       433\n",
      "                                           ανεξαρτητοι ελληνες - πανος καμμενος       0.25      0.03      0.05      3551\n",
      "                     ανεξαρτητοι ελληνες εθνικη πατριωτικη δημοκρατικη συμμαχια       0.31      0.06      0.10       976\n",
      "                                                                          βουλη       0.76      0.98      0.86      5057\n",
      "                                                           δημοκρατικη αριστερα       0.39      0.05      0.09      1045\n",
      "δημοκρατικη συμπαραταξη (πανελληνιο σοσιαλιστικο κινημα - δημοκρατικη αριστερα)       0.40      0.09      0.15      5096\n",
      "                                                                 ενωση κεντρωων       0.48      0.09      0.16      1868\n",
      "                                                    κομμουνιστικο κομμα ελλαδας       0.46      0.26      0.33     13964\n",
      "                                                                  λαικη ενοτητα       0.00      0.00      0.00        74\n",
      "                                                    λαικος ορθοδοξος συναγερμος       0.38      0.14      0.20      5801\n",
      "                                                   λαικος συνδεσος - χρυση αυγη       0.13      0.57      0.21      2822\n",
      "                                                                 νεα δημοκρατια       0.47      0.80      0.59     55213\n",
      "                                                 πανελληνιο σοσιαλιστικο κινημα       0.45      0.27      0.34     32556\n",
      "                                            συνασπισμος ριζοσπαστικης αριστερας       0.46      0.31      0.37     30515\n",
      "                     συνασπισμος της αριστερας των κινηματων και της οικολογιας       0.07      0.01      0.02        86\n",
      "                                                                      το ποταμι       0.12      0.02      0.03      1363\n",
      "\n",
      "                                                                       accuracy                           0.45    165886\n",
      "                                                                      macro avg       0.32      0.22      0.21    165886\n",
      "                                                                   weighted avg       0.44      0.45      0.41    165886\n",
      "\n"
     ]
    }
   ],
   "source": [
    "print(classification_report(y_test, y_pred))"
   ]
  },
  {
   "cell_type": "markdown",
   "metadata": {},
   "source": [
    "<h1>Grid Search with LinearSVC</h1>"
   ]
  },
  {
   "cell_type": "markdown",
   "metadata": {},
   "source": [
    "For LinearSVC I decided to run the Grid Search with the following parameters:  \n",
    "C is a regularization parameter.  \n",
    "tol is a stopping criterion.\n",
    "For the tfidf vectorizer:  \n",
    "max df ignores terms that appear in more than X% of speeches.  \n",
    "ngram range takes unigrams(1,2) and bigrams(2,2).  "
   ]
  },
  {
   "cell_type": "code",
   "execution_count": 7,
   "metadata": {},
   "outputs": [],
   "source": [
    "tfidf = TfidfVectorizer()"
   ]
  },
  {
   "cell_type": "code",
   "execution_count": 8,
   "metadata": {},
   "outputs": [],
   "source": [
    "parameters = {\n",
    "    'tfidf__max_df': (0.50, 0.80),\n",
    "    'tfidf__ngram_range': [(1, 2), (2, 2)],\n",
    "    'clf__C': (0.5, 1, 1.5, 2),\n",
    "    'clf__tol': (0.001, 0.0001, 0.00001)\n",
    "}"
   ]
  },
  {
   "cell_type": "code",
   "execution_count": 9,
   "metadata": {},
   "outputs": [],
   "source": [
    "clf = Pipeline([('tfidf',tfidf),\n",
    "                     ('clf', LinearSVC())])"
   ]
  },
  {
   "cell_type": "code",
   "execution_count": 10,
   "metadata": {},
   "outputs": [],
   "source": [
    "GridLSVC = GridSearchCV(clf, parameters, n_jobs=5, cv=5,verbose=100)"
   ]
  },
  {
   "cell_type": "code",
   "execution_count": 11,
   "metadata": {},
   "outputs": [
    {
     "name": "stdout",
     "output_type": "stream",
     "text": [
      "Fitting 5 folds for each of 48 candidates, totalling 240 fits\n",
      "[Parallel(n_jobs=5)]: Using backend LokyBackend with 5 concurrent workers.\n",
      "[Parallel(n_jobs=5)]: Done   1 tasks      | elapsed: 18.2min\n",
      "[Parallel(n_jobs=5)]: Done   2 tasks      | elapsed: 19.6min\n",
      "[Parallel(n_jobs=5)]: Done   3 tasks      | elapsed: 19.7min\n",
      "[Parallel(n_jobs=5)]: Done   4 tasks      | elapsed: 24.1min\n",
      "[Parallel(n_jobs=5)]: Done   5 tasks      | elapsed: 24.5min\n",
      "[Parallel(n_jobs=5)]: Done   6 tasks      | elapsed: 25.6min\n",
      "[Parallel(n_jobs=5)]: Done   7 tasks      | elapsed: 28.8min\n",
      "[Parallel(n_jobs=5)]: Done   8 tasks      | elapsed: 32.8min\n",
      "[Parallel(n_jobs=5)]: Done   9 tasks      | elapsed: 36.4min\n",
      "[Parallel(n_jobs=5)]: Done  10 tasks      | elapsed: 36.4min\n",
      "[Parallel(n_jobs=5)]: Done  11 tasks      | elapsed: 38.4min\n",
      "[Parallel(n_jobs=5)]: Done  12 tasks      | elapsed: 43.1min\n",
      "[Parallel(n_jobs=5)]: Done  13 tasks      | elapsed: 46.7min\n",
      "[Parallel(n_jobs=5)]: Done  14 tasks      | elapsed: 48.5min\n",
      "[Parallel(n_jobs=5)]: Done  15 tasks      | elapsed: 50.6min\n",
      "[Parallel(n_jobs=5)]: Done  16 tasks      | elapsed: 51.3min\n",
      "[Parallel(n_jobs=5)]: Done  17 tasks      | elapsed: 57.6min\n",
      "[Parallel(n_jobs=5)]: Done  18 tasks      | elapsed: 60.3min\n",
      "[Parallel(n_jobs=5)]: Done  19 tasks      | elapsed: 60.8min\n",
      "[Parallel(n_jobs=5)]: Done  20 tasks      | elapsed: 61.8min\n",
      "[Parallel(n_jobs=5)]: Done  21 tasks      | elapsed: 63.5min\n",
      "[Parallel(n_jobs=5)]: Done  22 tasks      | elapsed: 70.4min\n",
      "[Parallel(n_jobs=5)]: Done  23 tasks      | elapsed: 72.4min\n",
      "[Parallel(n_jobs=5)]: Done  24 tasks      | elapsed: 75.6min\n",
      "[Parallel(n_jobs=5)]: Done  25 tasks      | elapsed: 76.9min\n",
      "[Parallel(n_jobs=5)]: Done  26 tasks      | elapsed: 77.5min\n",
      "[Parallel(n_jobs=5)]: Done  27 tasks      | elapsed: 82.1min\n",
      "[Parallel(n_jobs=5)]: Done  28 tasks      | elapsed: 83.4min\n",
      "[Parallel(n_jobs=5)]: Done  29 tasks      | elapsed: 88.6min\n",
      "[Parallel(n_jobs=5)]: Done  30 tasks      | elapsed: 92.3min\n",
      "[Parallel(n_jobs=5)]: Done  31 tasks      | elapsed: 92.4min\n",
      "[Parallel(n_jobs=5)]: Done  32 tasks      | elapsed: 93.4min\n",
      "[Parallel(n_jobs=5)]: Done  33 tasks      | elapsed: 93.5min\n",
      "[Parallel(n_jobs=5)]: Done  34 tasks      | elapsed: 100.1min\n",
      "[Parallel(n_jobs=5)]: Done  35 tasks      | elapsed: 105.6min\n",
      "[Parallel(n_jobs=5)]: Done  36 tasks      | elapsed: 105.8min\n",
      "[Parallel(n_jobs=5)]: Done  37 tasks      | elapsed: 106.3min\n",
      "[Parallel(n_jobs=5)]: Done  38 tasks      | elapsed: 109.2min\n",
      "[Parallel(n_jobs=5)]: Done  39 tasks      | elapsed: 112.6min\n",
      "[Parallel(n_jobs=5)]: Done  40 tasks      | elapsed: 117.4min\n",
      "[Parallel(n_jobs=5)]: Done  41 tasks      | elapsed: 121.2min\n",
      "[Parallel(n_jobs=5)]: Done  42 tasks      | elapsed: 121.3min\n",
      "[Parallel(n_jobs=5)]: Done  43 tasks      | elapsed: 123.0min\n",
      "[Parallel(n_jobs=5)]: Done  44 tasks      | elapsed: 126.1min\n",
      "[Parallel(n_jobs=5)]: Done  45 tasks      | elapsed: 129.1min\n",
      "[Parallel(n_jobs=5)]: Done  46 tasks      | elapsed: 132.5min\n",
      "[Parallel(n_jobs=5)]: Done  47 tasks      | elapsed: 135.0min\n",
      "[Parallel(n_jobs=5)]: Done  48 tasks      | elapsed: 136.6min\n",
      "[Parallel(n_jobs=5)]: Done  49 tasks      | elapsed: 139.1min\n",
      "[Parallel(n_jobs=5)]: Done  50 tasks      | elapsed: 139.8min\n",
      "[Parallel(n_jobs=5)]: Done  51 tasks      | elapsed: 142.4min\n",
      "[Parallel(n_jobs=5)]: Done  52 tasks      | elapsed: 149.6min\n",
      "[Parallel(n_jobs=5)]: Done  53 tasks      | elapsed: 151.2min\n",
      "[Parallel(n_jobs=5)]: Done  54 tasks      | elapsed: 153.7min\n",
      "[Parallel(n_jobs=5)]: Done  55 tasks      | elapsed: 154.0min\n",
      "[Parallel(n_jobs=5)]: Done  56 tasks      | elapsed: 154.1min\n",
      "[Parallel(n_jobs=5)]: Done  57 tasks      | elapsed: 161.0min\n",
      "[Parallel(n_jobs=5)]: Done  58 tasks      | elapsed: 164.8min\n",
      "[Parallel(n_jobs=5)]: Done  59 tasks      | elapsed: 166.8min\n",
      "[Parallel(n_jobs=5)]: Done  60 tasks      | elapsed: 166.9min\n",
      "[Parallel(n_jobs=5)]: Done  61 tasks      | elapsed: 167.2min\n",
      "[Parallel(n_jobs=5)]: Done  62 tasks      | elapsed: 173.8min\n",
      "[Parallel(n_jobs=5)]: Done  63 tasks      | elapsed: 175.1min\n",
      "[Parallel(n_jobs=5)]: Done  64 tasks      | elapsed: 178.1min\n",
      "[Parallel(n_jobs=5)]: Done  65 tasks      | elapsed: 181.7min\n",
      "[Parallel(n_jobs=5)]: Done  66 tasks      | elapsed: 181.7min\n",
      "[Parallel(n_jobs=5)]: Done  67 tasks      | elapsed: 184.2min\n",
      "[Parallel(n_jobs=5)]: Done  68 tasks      | elapsed: 184.5min\n",
      "[Parallel(n_jobs=5)]: Done  69 tasks      | elapsed: 188.4min\n",
      "[Parallel(n_jobs=5)]: Done  70 tasks      | elapsed: 193.5min\n",
      "[Parallel(n_jobs=5)]: Done  71 tasks      | elapsed: 195.9min\n",
      "[Parallel(n_jobs=5)]: Done  72 tasks      | elapsed: 197.8min\n",
      "[Parallel(n_jobs=5)]: Done  73 tasks      | elapsed: 198.3min\n",
      "[Parallel(n_jobs=5)]: Done  74 tasks      | elapsed: 202.9min\n",
      "[Parallel(n_jobs=5)]: Done  75 tasks      | elapsed: 206.5min\n",
      "[Parallel(n_jobs=5)]: Done  76 tasks      | elapsed: 208.8min\n",
      "[Parallel(n_jobs=5)]: Done  77 tasks      | elapsed: 210.1min\n",
      "[Parallel(n_jobs=5)]: Done  78 tasks      | elapsed: 210.3min\n",
      "[Parallel(n_jobs=5)]: Done  79 tasks      | elapsed: 212.8min\n",
      "[Parallel(n_jobs=5)]: Done  80 tasks      | elapsed: 216.4min\n",
      "[Parallel(n_jobs=5)]: Done  81 tasks      | elapsed: 220.1min\n",
      "[Parallel(n_jobs=5)]: Done  82 tasks      | elapsed: 222.7min\n",
      "[Parallel(n_jobs=5)]: Done  83 tasks      | elapsed: 224.0min\n",
      "[Parallel(n_jobs=5)]: Done  84 tasks      | elapsed: 225.4min\n",
      "[Parallel(n_jobs=5)]: Done  85 tasks      | elapsed: 228.0min\n",
      "[Parallel(n_jobs=5)]: Done  86 tasks      | elapsed: 229.5min\n",
      "[Parallel(n_jobs=5)]: Done  87 tasks      | elapsed: 232.9min\n",
      "[Parallel(n_jobs=5)]: Done  88 tasks      | elapsed: 234.5min\n",
      "[Parallel(n_jobs=5)]: Done  89 tasks      | elapsed: 237.2min\n",
      "[Parallel(n_jobs=5)]: Done  90 tasks      | elapsed: 240.3min\n",
      "[Parallel(n_jobs=5)]: Done  91 tasks      | elapsed: 244.1min\n",
      "[Parallel(n_jobs=5)]: Done  92 tasks      | elapsed: 249.5min\n",
      "[Parallel(n_jobs=5)]: Done  93 tasks      | elapsed: 249.6min\n",
      "[Parallel(n_jobs=5)]: Done  94 tasks      | elapsed: 251.3min\n",
      "[Parallel(n_jobs=5)]: Done  95 tasks      | elapsed: 253.9min\n",
      "[Parallel(n_jobs=5)]: Done  96 tasks      | elapsed: 256.0min\n",
      "[Parallel(n_jobs=5)]: Done  97 tasks      | elapsed: 258.9min\n",
      "[Parallel(n_jobs=5)]: Done  98 tasks      | elapsed: 260.3min\n",
      "[Parallel(n_jobs=5)]: Done  99 tasks      | elapsed: 262.0min\n",
      "[Parallel(n_jobs=5)]: Done 100 tasks      | elapsed: 266.5min\n",
      "[Parallel(n_jobs=5)]: Done 101 tasks      | elapsed: 269.3min\n",
      "[Parallel(n_jobs=5)]: Done 102 tasks      | elapsed: 271.7min\n",
      "[Parallel(n_jobs=5)]: Done 103 tasks      | elapsed: 273.6min\n",
      "[Parallel(n_jobs=5)]: Done 104 tasks      | elapsed: 276.2min\n",
      "[Parallel(n_jobs=5)]: Done 105 tasks      | elapsed: 279.0min\n",
      "[Parallel(n_jobs=5)]: Done 106 tasks      | elapsed: 279.8min\n",
      "[Parallel(n_jobs=5)]: Done 107 tasks      | elapsed: 284.8min\n",
      "[Parallel(n_jobs=5)]: Done 108 tasks      | elapsed: 286.5min\n",
      "[Parallel(n_jobs=5)]: Done 109 tasks      | elapsed: 288.9min\n",
      "[Parallel(n_jobs=5)]: Done 110 tasks      | elapsed: 292.6min\n",
      "[Parallel(n_jobs=5)]: Done 111 tasks      | elapsed: 295.0min\n",
      "[Parallel(n_jobs=5)]: Done 112 tasks      | elapsed: 299.5min\n",
      "[Parallel(n_jobs=5)]: Done 113 tasks      | elapsed: 302.5min\n",
      "[Parallel(n_jobs=5)]: Done 114 tasks      | elapsed: 304.9min\n",
      "[Parallel(n_jobs=5)]: Done 115 tasks      | elapsed: 308.7min\n",
      "[Parallel(n_jobs=5)]: Done 116 tasks      | elapsed: 308.9min\n",
      "[Parallel(n_jobs=5)]: Done 117 tasks      | elapsed: 310.9min\n",
      "[Parallel(n_jobs=5)]: Done 118 tasks      | elapsed: 317.1min\n",
      "[Parallel(n_jobs=5)]: Done 119 tasks      | elapsed: 317.3min\n",
      "[Parallel(n_jobs=5)]: Done 120 tasks      | elapsed: 321.0min\n",
      "[Parallel(n_jobs=5)]: Done 121 tasks      | elapsed: 323.4min\n",
      "[Parallel(n_jobs=5)]: Done 122 tasks      | elapsed: 327.0min\n",
      "[Parallel(n_jobs=5)]: Done 123 tasks      | elapsed: 330.3min\n",
      "[Parallel(n_jobs=5)]: Done 124 tasks      | elapsed: 330.6min\n",
      "[Parallel(n_jobs=5)]: Done 125 tasks      | elapsed: 337.3min\n",
      "[Parallel(n_jobs=5)]: Done 126 tasks      | elapsed: 337.8min\n",
      "[Parallel(n_jobs=5)]: Done 127 tasks      | elapsed: 338.3min\n",
      "[Parallel(n_jobs=5)]: Done 128 tasks      | elapsed: 346.2min\n",
      "[Parallel(n_jobs=5)]: Done 129 tasks      | elapsed: 346.5min\n",
      "[Parallel(n_jobs=5)]: Done 130 tasks      | elapsed: 347.0min\n",
      "[Parallel(n_jobs=5)]: Done 131 tasks      | elapsed: 351.8min\n",
      "[Parallel(n_jobs=5)]: Done 132 tasks      | elapsed: 353.7min\n",
      "[Parallel(n_jobs=5)]: Done 133 tasks      | elapsed: 358.7min\n",
      "[Parallel(n_jobs=5)]: Done 134 tasks      | elapsed: 360.2min\n",
      "[Parallel(n_jobs=5)]: Done 135 tasks      | elapsed: 360.2min\n",
      "[Parallel(n_jobs=5)]: Done 136 tasks      | elapsed: 364.2min\n",
      "[Parallel(n_jobs=5)]: Done 137 tasks      | elapsed: 366.1min\n",
      "[Parallel(n_jobs=5)]: Done 138 tasks      | elapsed: 370.9min\n",
      "[Parallel(n_jobs=5)]: Done 139 tasks      | elapsed: 376.2min\n",
      "[Parallel(n_jobs=5)]: Done 140 tasks      | elapsed: 376.3min\n",
      "[Parallel(n_jobs=5)]: Done 141 tasks      | elapsed: 378.7min\n",
      "[Parallel(n_jobs=5)]: Done 142 tasks      | elapsed: 381.5min\n",
      "[Parallel(n_jobs=5)]: Done 143 tasks      | elapsed: 386.2min\n",
      "[Parallel(n_jobs=5)]: Done 144 tasks      | elapsed: 391.2min\n",
      "[Parallel(n_jobs=5)]: Done 145 tasks      | elapsed: 393.2min\n",
      "[Parallel(n_jobs=5)]: Done 146 tasks      | elapsed: 393.8min\n",
      "[Parallel(n_jobs=5)]: Done 147 tasks      | elapsed: 396.1min\n",
      "[Parallel(n_jobs=5)]: Done 148 tasks      | elapsed: 401.4min\n",
      "[Parallel(n_jobs=5)]: Done 149 tasks      | elapsed: 402.6min\n",
      "[Parallel(n_jobs=5)]: Done 150 tasks      | elapsed: 408.4min\n",
      "[Parallel(n_jobs=5)]: Done 151 tasks      | elapsed: 409.7min\n",
      "[Parallel(n_jobs=5)]: Done 152 tasks      | elapsed: 411.4min\n",
      "[Parallel(n_jobs=5)]: Done 153 tasks      | elapsed: 418.1min\n",
      "[Parallel(n_jobs=5)]: Done 154 tasks      | elapsed: 419.6min\n",
      "[Parallel(n_jobs=5)]: Done 155 tasks      | elapsed: 420.6min\n",
      "[Parallel(n_jobs=5)]: Done 156 tasks      | elapsed: 425.7min\n",
      "[Parallel(n_jobs=5)]: Done 157 tasks      | elapsed: 425.9min\n",
      "[Parallel(n_jobs=5)]: Done 158 tasks      | elapsed: 432.5min\n",
      "[Parallel(n_jobs=5)]: Done 159 tasks      | elapsed: 434.1min\n",
      "[Parallel(n_jobs=5)]: Done 160 tasks      | elapsed: 434.6min\n",
      "[Parallel(n_jobs=5)]: Done 161 tasks      | elapsed: 442.0min\n",
      "[Parallel(n_jobs=5)]: Done 162 tasks      | elapsed: 442.3min\n",
      "[Parallel(n_jobs=5)]: Done 163 tasks      | elapsed: 448.5min\n",
      "[Parallel(n_jobs=5)]: Done 164 tasks      | elapsed: 449.3min\n",
      "[Parallel(n_jobs=5)]: Done 165 tasks      | elapsed: 450.0min\n",
      "[Parallel(n_jobs=5)]: Done 166 tasks      | elapsed: 456.5min\n",
      "[Parallel(n_jobs=5)]: Done 167 tasks      | elapsed: 456.6min\n",
      "[Parallel(n_jobs=5)]: Done 168 tasks      | elapsed: 463.8min\n",
      "[Parallel(n_jobs=5)]: Done 169 tasks      | elapsed: 465.0min\n",
      "[Parallel(n_jobs=5)]: Done 170 tasks      | elapsed: 465.2min\n",
      "[Parallel(n_jobs=5)]: Done 171 tasks      | elapsed: 473.8min\n",
      "[Parallel(n_jobs=5)]: Done 172 tasks      | elapsed: 474.5min\n",
      "[Parallel(n_jobs=5)]: Done 173 tasks      | elapsed: 478.9min\n",
      "[Parallel(n_jobs=5)]: Done 174 tasks      | elapsed: 480.6min\n",
      "[Parallel(n_jobs=5)]: Done 175 tasks      | elapsed: 481.4min\n",
      "[Parallel(n_jobs=5)]: Done 176 tasks      | elapsed: 490.1min\n",
      "[Parallel(n_jobs=5)]: Done 177 tasks      | elapsed: 490.5min\n",
      "[Parallel(n_jobs=5)]: Done 178 tasks      | elapsed: 494.0min\n",
      "[Parallel(n_jobs=5)]: Done 179 tasks      | elapsed: 497.3min\n",
      "[Parallel(n_jobs=5)]: Done 180 tasks      | elapsed: 497.5min\n",
      "[Parallel(n_jobs=5)]: Done 181 tasks      | elapsed: 504.4min\n",
      "[Parallel(n_jobs=5)]: Done 182 tasks      | elapsed: 504.6min\n",
      "[Parallel(n_jobs=5)]: Done 183 tasks      | elapsed: 508.6min\n",
      "[Parallel(n_jobs=5)]: Done 184 tasks      | elapsed: 512.6min\n",
      "[Parallel(n_jobs=5)]: Done 185 tasks      | elapsed: 512.9min\n",
      "[Parallel(n_jobs=5)]: Done 186 tasks      | elapsed: 518.0min\n",
      "[Parallel(n_jobs=5)]: Done 187 tasks      | elapsed: 518.0min\n",
      "[Parallel(n_jobs=5)]: Done 188 tasks      | elapsed: 521.3min\n",
      "[Parallel(n_jobs=5)]: Done 189 tasks      | elapsed: 528.3min\n",
      "[Parallel(n_jobs=5)]: Done 190 tasks      | elapsed: 528.5min\n",
      "[Parallel(n_jobs=5)]: Done 191 tasks      | elapsed: 537.1min\n",
      "[Parallel(n_jobs=5)]: Done 192 tasks      | elapsed: 537.1min\n",
      "[Parallel(n_jobs=5)]: Done 193 tasks      | elapsed: 537.2min\n",
      "[Parallel(n_jobs=5)]: Done 194 tasks      | elapsed: 543.6min\n",
      "[Parallel(n_jobs=5)]: Done 195 tasks      | elapsed: 543.6min\n",
      "[Parallel(n_jobs=5)]: Done 196 tasks      | elapsed: 551.3min\n",
      "[Parallel(n_jobs=5)]: Done 197 tasks      | elapsed: 551.9min\n",
      "[Parallel(n_jobs=5)]: Done 198 tasks      | elapsed: 552.4min\n",
      "[Parallel(n_jobs=5)]: Done 199 tasks      | elapsed: 560.2min\n",
      "[Parallel(n_jobs=5)]: Done 200 tasks      | elapsed: 560.3min\n",
      "[Parallel(n_jobs=5)]: Done 201 tasks      | elapsed: 567.7min\n",
      "[Parallel(n_jobs=5)]: Done 202 tasks      | elapsed: 568.7min\n",
      "[Parallel(n_jobs=5)]: Done 203 tasks      | elapsed: 568.9min\n",
      "[Parallel(n_jobs=5)]: Done 204 tasks      | elapsed: 580.1min\n",
      "[Parallel(n_jobs=5)]: Done 205 tasks      | elapsed: 580.7min\n",
      "[Parallel(n_jobs=5)]: Done 206 tasks      | elapsed: 581.5min\n",
      "[Parallel(n_jobs=5)]: Done 207 tasks      | elapsed: 585.4min\n",
      "[Parallel(n_jobs=5)]: Done 208 tasks      | elapsed: 585.9min\n",
      "[Parallel(n_jobs=5)]: Done 209 tasks      | elapsed: 593.5min\n",
      "[Parallel(n_jobs=5)]: Done 210 tasks      | elapsed: 594.4min\n",
      "[Parallel(n_jobs=5)]: Done 211 tasks      | elapsed: 598.3min\n",
      "[Parallel(n_jobs=5)]: Done 212 tasks      | elapsed: 603.0min\n",
      "[Parallel(n_jobs=5)]: Done 213 tasks      | elapsed: 603.3min\n",
      "[Parallel(n_jobs=5)]: Done 214 tasks      | elapsed: 612.0min\n",
      "[Parallel(n_jobs=5)]: Done 215 tasks      | elapsed: 615.6min\n",
      "[Parallel(n_jobs=5)]: Done 216 tasks      | elapsed: 615.6min\n",
      "[Parallel(n_jobs=5)]: Done 217 tasks      | elapsed: 616.6min\n",
      "[Parallel(n_jobs=5)]: Done 218 tasks      | elapsed: 616.7min\n",
      "[Parallel(n_jobs=5)]: Done 219 tasks      | elapsed: 625.5min\n",
      "[Parallel(n_jobs=5)]: Done 220 tasks      | elapsed: 631.3min\n",
      "[Parallel(n_jobs=5)]: Done 221 tasks      | elapsed: 636.3min\n",
      "[Parallel(n_jobs=5)]: Done 222 tasks      | elapsed: 637.9min\n",
      "[Parallel(n_jobs=5)]: Done 223 tasks      | elapsed: 638.0min\n",
      "[Parallel(n_jobs=5)]: Done 224 tasks      | elapsed: 644.1min\n",
      "[Parallel(n_jobs=5)]: Done 225 tasks      | elapsed: 652.2min\n",
      "[Parallel(n_jobs=5)]: Done 226 tasks      | elapsed: 652.9min\n",
      "[Parallel(n_jobs=5)]: Done 227 tasks      | elapsed: 655.5min\n",
      "[Parallel(n_jobs=5)]: Done 228 tasks      | elapsed: 656.9min\n",
      "[Parallel(n_jobs=5)]: Done 229 tasks      | elapsed: 660.3min\n",
      "[Parallel(n_jobs=5)]: Done 230 tasks      | elapsed: 667.6min\n",
      "[Parallel(n_jobs=5)]: Done 231 tasks      | elapsed: 671.4min\n",
      "[Parallel(n_jobs=5)]: Done 234 out of 240 | elapsed: 678.6min remaining: 17.4min\n",
      "[Parallel(n_jobs=5)]: Done 237 out of 240 | elapsed: 691.8min remaining:  8.8min\n",
      "[Parallel(n_jobs=5)]: Done 240 out of 240 | elapsed: 697.3min remaining:    0.0s\n",
      "[Parallel(n_jobs=5)]: Done 240 out of 240 | elapsed: 697.3min finished\n"
     ]
    }
   ],
   "source": [
    "GridLSVC = GridLSVC.fit(X_train, y_train)"
   ]
  },
  {
   "cell_type": "code",
   "execution_count": 12,
   "metadata": {},
   "outputs": [
    {
     "data": {
      "text/plain": [
       "Pipeline(steps=[('tfidf', TfidfVectorizer(max_df=0.8, ngram_range=(1, 2))),\n",
       "                ('clf', LinearSVC(C=0.5))])"
      ]
     },
     "execution_count": 12,
     "metadata": {},
     "output_type": "execute_result"
    }
   ],
   "source": [
    "GridLSVC.best_estimator_"
   ]
  },
  {
   "cell_type": "code",
   "execution_count": 13,
   "metadata": {},
   "outputs": [
    {
     "data": {
      "text/plain": [
       "{'clf__C': 0.5,\n",
       " 'clf__tol': 0.0001,\n",
       " 'tfidf__max_df': 0.8,\n",
       " 'tfidf__ngram_range': (1, 2)}"
      ]
     },
     "execution_count": 13,
     "metadata": {},
     "output_type": "execute_result"
    }
   ],
   "source": [
    "GridLSVC.best_params_"
   ]
  },
  {
   "cell_type": "markdown",
   "metadata": {},
   "source": [
    "<h1>Best Parameters with LinearSVC</h1>"
   ]
  },
  {
   "cell_type": "code",
   "execution_count": 14,
   "metadata": {},
   "outputs": [],
   "source": [
    "tfidf = TfidfVectorizer(max_df=0.80,ngram_range=(1, 2))\n",
    "classifier = LinearSVC(C=0.5, tol=0.0001)"
   ]
  },
  {
   "cell_type": "code",
   "execution_count": 15,
   "metadata": {},
   "outputs": [],
   "source": [
    "clf = Pipeline([('tfidf', tfidf), ('clf', classifier)],verbose=100)"
   ]
  },
  {
   "cell_type": "code",
   "execution_count": 16,
   "metadata": {},
   "outputs": [
    {
     "name": "stdout",
     "output_type": "stream",
     "text": [
      "[Pipeline] ............. (step 1 of 2) Processing tfidf, total= 2.5min\n",
      "[Pipeline] ............... (step 2 of 2) Processing clf, total= 3.3min\n"
     ]
    },
    {
     "data": {
      "text/plain": [
       "Pipeline(steps=[('tfidf', TfidfVectorizer(max_df=0.8, ngram_range=(1, 2))),\n",
       "                ('clf', LinearSVC(C=0.5))],\n",
       "         verbose=100)"
      ]
     },
     "execution_count": 16,
     "metadata": {},
     "output_type": "execute_result"
    }
   ],
   "source": [
    "clf.fit(X_train, y_train)"
   ]
  },
  {
   "cell_type": "code",
   "execution_count": 17,
   "metadata": {},
   "outputs": [],
   "source": [
    "y_pred = clf.predict(X_test)"
   ]
  },
  {
   "cell_type": "code",
   "execution_count": 18,
   "metadata": {},
   "outputs": [
    {
     "name": "stdout",
     "output_type": "stream",
     "text": [
      "                                                                                 precision    recall  f1-score   support\n",
      "\n",
      "                                                   ανεξαρτητοι (εκτος κομματος)       0.43      0.05      0.09      5466\n",
      "                                             ανεξαρτητοι δημοκρατικοι βουλευτες       0.43      0.01      0.03       433\n",
      "                                           ανεξαρτητοι ελληνες - πανος καμμενος       0.51      0.09      0.16      3551\n",
      "                     ανεξαρτητοι ελληνες εθνικη πατριωτικη δημοκρατικη συμμαχια       0.48      0.06      0.11       976\n",
      "                                                                          βουλη       0.77      0.98      0.87      5057\n",
      "                                                           δημοκρατικη αριστερα       0.71      0.08      0.15      1045\n",
      "δημοκρατικη συμπαραταξη (πανελληνιο σοσιαλιστικο κινημα - δημοκρατικη αριστερα)       0.53      0.13      0.20      5096\n",
      "                                                                 ενωση κεντρωων       0.63      0.14      0.23      1868\n",
      "                                                    κομμουνιστικο κομμα ελλαδας       0.47      0.55      0.50     13964\n",
      "                                                                  λαικη ενοτητα       0.00      0.00      0.00        74\n",
      "                                                    λαικος ορθοδοξος συναγερμος       0.64      0.20      0.31      5801\n",
      "                                                   λαικος συνδεσος - χρυση αυγη       0.74      0.24      0.37      2822\n",
      "                                                                 νεα δημοκρατια       0.52      0.76      0.62     55213\n",
      "                                                 πανελληνιο σοσιαλιστικο κινημα       0.49      0.45      0.47     32556\n",
      "                                            συνασπισμος ριζοσπαστικης αριστερας       0.47      0.42      0.44     30515\n",
      "                     συνασπισμος της αριστερας των κινηματων και της οικολογιας       0.25      0.01      0.02        86\n",
      "                                                                      το ποταμι       0.34      0.02      0.04      1363\n",
      "\n",
      "                                                                       accuracy                           0.52    165886\n",
      "                                                                      macro avg       0.50      0.25      0.27    165886\n",
      "                                                                   weighted avg       0.52      0.52      0.48    165886\n",
      "\n"
     ]
    }
   ],
   "source": [
    "print(classification_report(y_test, y_pred))"
   ]
  },
  {
   "cell_type": "markdown",
   "metadata": {},
   "source": [
    "<H1>SCIKIT Conclusion</H1>"
   ]
  },
  {
   "cell_type": "markdown",
   "metadata": {},
   "source": [
    "The best scikit classifier appears to be LinearSVC, but Multinomial is pretty close too. \n",
    "Excluding some parties that don't have many speeches, doesn't improve the prediction a lot."
   ]
  },
  {
   "cell_type": "markdown",
   "metadata": {},
   "source": [
    "<h1>Neural Network</h1>"
   ]
  },
  {
   "cell_type": "markdown",
   "metadata": {},
   "source": [
    "We see that there are 320348 unique token-words so our maxWords parameter that keeps most frequent is set to 120000 (a little less than half).  \n",
    "maxSeqSpeech is how many words will be in each speech. We calculated by the following lines, finding how many words are in speech, summing this and dividing by number of speeches.  \n",
    "embDim is embedding dimension. Searching for this online I saw that it is either a multiple of 100 or a power of 2 (128, 256, 512)"
   ]
  },
  {
   "cell_type": "code",
   "execution_count": 32,
   "metadata": {},
   "outputs": [],
   "source": [
    "temp = proceedings.copy()"
   ]
  },
  {
   "cell_type": "code",
   "execution_count": 33,
   "metadata": {},
   "outputs": [],
   "source": [
    "temp['words'] = temp[\"cleaned_speech\"].apply(lambda x: len(str(x).split(' ')))"
   ]
  },
  {
   "cell_type": "code",
   "execution_count": 34,
   "metadata": {},
   "outputs": [
    {
     "data": {
      "text/plain": [
       "71"
      ]
     },
     "execution_count": 34,
     "metadata": {},
     "output_type": "execute_result"
    }
   ],
   "source": [
    "(int)(temp['words'].sum()/temp['words'].shape[0])"
   ]
  },
  {
   "cell_type": "code",
   "execution_count": 35,
   "metadata": {},
   "outputs": [
    {
     "data": {
      "text/plain": [
       "320348"
      ]
     },
     "execution_count": 35,
     "metadata": {},
     "output_type": "execute_result"
    }
   ],
   "source": [
    "maxWords = 120000\n",
    "maxSeqSpeech = (int)(temp['words'].sum()/temp['words'].shape[0])\n",
    "embDim = 128\n",
    "tokenizer = tf.keras.preprocessing.text.Tokenizer(num_words=maxWords)\n",
    "tokenizer.fit_on_texts(proceedings['cleaned_speech'].values)\n",
    "word_index = tokenizer.word_index\n",
    "len(word_index)"
   ]
  },
  {
   "cell_type": "code",
   "execution_count": 36,
   "metadata": {},
   "outputs": [],
   "source": [
    "X = tokenizer.texts_to_sequences(proceedings['cleaned_speech'].values)\n",
    "X = pad_sequences(X, maxlen=maxSeqSpeech)"
   ]
  },
  {
   "cell_type": "code",
   "execution_count": 37,
   "metadata": {},
   "outputs": [],
   "source": [
    "y = pd.get_dummies(proceedings['political_party']).values"
   ]
  },
  {
   "cell_type": "code",
   "execution_count": 38,
   "metadata": {},
   "outputs": [],
   "source": [
    "X_train, X_test, y_train, y_test = train_test_split(X, y, test_size = 0.25, random_state = 42)"
   ]
  },
  {
   "cell_type": "markdown",
   "metadata": {},
   "source": [
    "<h1>LSTM</h1>"
   ]
  },
  {
   "cell_type": "markdown",
   "metadata": {},
   "source": [
    "Embedding  \n",
    "input_dim: len of our vocabulary  \n",
    "output_dim: vector size  \n",
    "mask_zero: padding  \n",
    "\n",
    "LSTM has units equal to output_dim  \n",
    "  \n",
    "Dense layer has units equal to number of classes and we use sotftmax as it is the best for multiclass classification.\n",
    "  \n",
    "We have early stopping for val_loss with min delta 0.001 and patience 2  \n",
    "  \n",
    "We add Dropout because model will overfit."
   ]
  },
  {
   "cell_type": "code",
   "execution_count": 134,
   "metadata": {},
   "outputs": [
    {
     "name": "stdout",
     "output_type": "stream",
     "text": [
      "Epoch 1/15\n",
      "1556/1556 [==============================] - 618s 394ms/step - loss: 1.8590 - accuracy: 0.3857 - val_loss: 1.5873 - val_accuracy: 0.4563\n",
      "Epoch 2/15\n",
      "1556/1556 [==============================] - 622s 399ms/step - loss: 1.4951 - accuracy: 0.4901 - val_loss: 1.5455 - val_accuracy: 0.4669\n",
      "Epoch 3/15\n",
      "1556/1556 [==============================] - 630s 405ms/step - loss: 1.3273 - accuracy: 0.5485 - val_loss: 1.5586 - val_accuracy: 0.4662\n",
      "Epoch 4/15\n",
      "1556/1556 [==============================] - 627s 403ms/step - loss: 1.1910 - accuracy: 0.5938 - val_loss: 1.6388 - val_accuracy: 0.4594\n"
     ]
    }
   ],
   "source": [
    "model = Sequential([\n",
    "                Embedding(input_dim = maxWords, output_dim = embDim, mask_zero=True),\n",
    "                LSTM(units = embDim),\n",
    "                Dropout(0.2),\n",
    "                Dense(y.shape[1], activation='softmax')])\n",
    "\n",
    "model.compile(loss='categorical_crossentropy', optimizer='adam', metrics=['accuracy'])\n",
    "\n",
    "epochs = 15\n",
    "batch_size = 256\n",
    "validation_split = 0.2\n",
    "callbacks = [EarlyStopping(monitor='val_loss', patience=2, min_delta=0.001)]\n",
    "history = model.fit(X_train, y_train, epochs=epochs, batch_size=batch_size, validation_split=validation_split, callbacks=callbacks)"
   ]
  },
  {
   "cell_type": "code",
   "execution_count": 135,
   "metadata": {},
   "outputs": [
    {
     "name": "stdout",
     "output_type": "stream",
     "text": [
      "5184/5184 [==============================] - 106s 21ms/step - loss: 1.6392 - accuracy: 0.4609\n",
      "Loss:  1.6391942501068115\n",
      "Accuracy:  0.4609430432319641\n"
     ]
    }
   ],
   "source": [
    "loss, accuracy = model.evaluate(X_test,y_test)\n",
    "print(\"Loss: \", loss)\n",
    "print(\"Accuracy: \", accuracy)"
   ]
  },
  {
   "cell_type": "markdown",
   "metadata": {},
   "source": [
    "<h1>BI-LSTM</h1>"
   ]
  },
  {
   "cell_type": "code",
   "execution_count": 137,
   "metadata": {},
   "outputs": [
    {
     "name": "stdout",
     "output_type": "stream",
     "text": [
      "Epoch 1/15\n",
      "1556/1556 [==============================] - 1038s 662ms/step - loss: 1.8181 - accuracy: 0.3958 - val_loss: 1.5647 - val_accuracy: 0.4598\n",
      "Epoch 2/15\n",
      "1556/1556 [==============================] - 1251s 804ms/step - loss: 1.4576 - accuracy: 0.5011 - val_loss: 1.5261 - val_accuracy: 0.4696\n",
      "Epoch 3/15\n",
      "1556/1556 [==============================] - 1250s 803ms/step - loss: 1.3062 - accuracy: 0.5515 - val_loss: 1.5644 - val_accuracy: 0.4669\n",
      "Epoch 4/15\n",
      "1556/1556 [==============================] - 1251s 804ms/step - loss: 1.1693 - accuracy: 0.5977 - val_loss: 1.6448 - val_accuracy: 0.4637\n"
     ]
    }
   ],
   "source": [
    "model = Sequential([\n",
    "                Embedding(input_dim = maxWords, output_dim = embDim, mask_zero=True),\n",
    "                Dropout(0.2),\n",
    "                Bidirectional(LSTM(units = embDim)),\n",
    "                Dropout(0.2),\n",
    "                Dense(y.shape[1], activation='softmax')])\n",
    "\n",
    "model.compile(loss='categorical_crossentropy', optimizer='adam', metrics=['accuracy'])\n",
    "\n",
    "epochs = 15\n",
    "batch_size = 256\n",
    "validation_split = 0.2\n",
    "callbacks = [EarlyStopping(monitor='val_loss', patience=2, min_delta=0.001)]\n",
    "history = model.fit(X_train, y_train, epochs=epochs, batch_size=batch_size, validation_split=validation_split, callbacks=callbacks)"
   ]
  },
  {
   "cell_type": "code",
   "execution_count": 138,
   "metadata": {},
   "outputs": [
    {
     "name": "stdout",
     "output_type": "stream",
     "text": [
      "5184/5184 [==============================] - 200s 39ms/step - loss: 1.6456 - accuracy: 0.4650\n",
      "Loss:  1.6455899477005005\n",
      "Accuracy:  0.46498197317123413\n"
     ]
    }
   ],
   "source": [
    "loss, accuracy = model.evaluate(X_test,y_test)\n",
    "print(\"Loss: \", loss)\n",
    "print(\"Accuracy: \", accuracy)"
   ]
  },
  {
   "cell_type": "markdown",
   "metadata": {},
   "source": [
    "<h1>DOUBLE BI-GRU</h1>"
   ]
  },
  {
   "cell_type": "code",
   "execution_count": 151,
   "metadata": {},
   "outputs": [
    {
     "name": "stdout",
     "output_type": "stream",
     "text": [
      "Epoch 1/15\n",
      "1556/1556 [==============================] - 3780s 2s/step - loss: 1.7796 - accuracy: 0.3997 - val_loss: 1.5444 - val_accuracy: 0.4640\n",
      "Epoch 2/15\n",
      "1556/1556 [==============================] - 3462s 2s/step - loss: 1.4386 - accuracy: 0.5087 - val_loss: 1.5156 - val_accuracy: 0.4754\n",
      "Epoch 3/15\n",
      "1556/1556 [==============================] - 3432s 2s/step - loss: 1.2686 - accuracy: 0.5645 - val_loss: 1.5671 - val_accuracy: 0.4715\n",
      "Epoch 4/15\n",
      "1556/1556 [==============================] - 3278s 2s/step - loss: 1.1303 - accuracy: 0.6119 - val_loss: 1.6776 - val_accuracy: 0.4596\n"
     ]
    }
   ],
   "source": [
    "model = Sequential([\n",
    "                Embedding(input_dim = maxWords, output_dim = embDim, mask_zero=True),\n",
    "                Dropout(0.2),\n",
    "                Bidirectional(GRU(embDim, return_sequences=True)),\n",
    "                Dropout(0.2),\n",
    "                Bidirectional(GRU((int)(embDim/2))),\n",
    "                Dropout(0.2),\n",
    "                Dense(y.shape[1], activation='softmax')])\n",
    "\n",
    "model.compile(loss='categorical_crossentropy', optimizer='adam', metrics=['accuracy'])\n",
    "\n",
    "epochs = 15\n",
    "batch_size = 256\n",
    "validation_split = 0.2\n",
    "callbacks = [EarlyStopping(monitor='val_loss', patience=2, min_delta=0.001)]\n",
    "history = model.fit(X_train, y_train, epochs=epochs, batch_size=batch_size, validation_split=validation_split, callbacks=callbacks)"
   ]
  },
  {
   "cell_type": "code",
   "execution_count": 153,
   "metadata": {},
   "outputs": [
    {
     "name": "stdout",
     "output_type": "stream",
     "text": [
      "5184/5184 [==============================] - 361s 70ms/step - loss: 1.6771 - accuracy: 0.4613\n",
      "Loss:  1.6771186590194702\n",
      "Accuracy:  0.4612685739994049\n"
     ]
    }
   ],
   "source": [
    "loss, accuracy = model.evaluate(X_test,y_test)\n",
    "print(\"Loss: \", loss)\n",
    "print(\"Accuracy: \", accuracy)"
   ]
  },
  {
   "cell_type": "markdown",
   "metadata": {},
   "source": [
    "<h1> TRIPLE LSTM </h1>"
   ]
  },
  {
   "cell_type": "code",
   "execution_count": 39,
   "metadata": {},
   "outputs": [
    {
     "name": "stdout",
     "output_type": "stream",
     "text": [
      "Epoch 1/15\n",
      "1556/1556 [==============================] - 1363s 869ms/step - loss: 1.9239 - accuracy: 0.3578 - val_loss: 1.7029 - val_accuracy: 0.4095\n",
      "Epoch 2/15\n",
      "1556/1556 [==============================] - 1371s 881ms/step - loss: 1.6738 - accuracy: 0.4216 - val_loss: 1.6169 - val_accuracy: 0.4457\n",
      "Epoch 3/15\n",
      "1556/1556 [==============================] - 1377s 885ms/step - loss: 1.5433 - accuracy: 0.4796 - val_loss: 1.5664 - val_accuracy: 0.4616\n",
      "Epoch 4/15\n",
      "1556/1556 [==============================] - 1382s 888ms/step - loss: 1.4110 - accuracy: 0.5288 - val_loss: 1.5936 - val_accuracy: 0.4587\n",
      "Epoch 5/15\n",
      "1556/1556 [==============================] - 1389s 892ms/step - loss: 1.3096 - accuracy: 0.5616 - val_loss: 1.6362 - val_accuracy: 0.4626\n"
     ]
    }
   ],
   "source": [
    "model = Sequential([\n",
    "                Embedding(input_dim = maxWords, output_dim = embDim, input_length=X.shape[1], mask_zero=True),\n",
    "                Dropout(0.2),\n",
    "                LSTM(units = embDim, return_sequences=True),\n",
    "                Dropout(0.2),\n",
    "                LSTM(units = embDim, return_sequences=True),\n",
    "                Dropout(0.2),\n",
    "                LSTM(units =(int)(embDim/2)),\n",
    "                Dropout(0.2),\n",
    "                Dense(y.shape[1], activation='softmax')])\n",
    "\n",
    "model.compile(loss='categorical_crossentropy', optimizer='adam', metrics=['accuracy'])\n",
    "\n",
    "epochs = 15\n",
    "batch_size = 256\n",
    "validation_split = 0.2\n",
    "callbacks = [EarlyStopping(monitor='val_loss', patience=2, min_delta=0.001)]\n",
    "history = model.fit(X_train, y_train, epochs=epochs, batch_size=batch_size, validation_split=validation_split, callbacks=callbacks)"
   ]
  },
  {
   "cell_type": "code",
   "execution_count": 40,
   "metadata": {},
   "outputs": [
    {
     "name": "stdout",
     "output_type": "stream",
     "text": [
      "5184/5184 [==============================] - 240s 46ms/step - loss: 1.6421 - accuracy: 0.4633\n",
      "Loss:  1.6421148777008057\n",
      "Accuracy:  0.46326392889022827\n"
     ]
    }
   ],
   "source": [
    "loss, accuracy = model.evaluate(X_test,y_test)\n",
    "print(\"Loss: \", loss)\n",
    "print(\"Accuracy: \", accuracy)"
   ]
  },
  {
   "cell_type": "markdown",
   "metadata": {},
   "source": [
    "<h1> Top-8 parties LSTM </h1>"
   ]
  },
  {
   "cell_type": "code",
   "execution_count": 114,
   "metadata": {},
   "outputs": [],
   "source": [
    "top8NN = proceedings.copy()"
   ]
  },
  {
   "cell_type": "code",
   "execution_count": 115,
   "metadata": {},
   "outputs": [],
   "source": [
    "top8NN = top8NN[top8NN.political_party.isin(['νεα δημοκρατια',\n",
    "                                       'πανελληνιο σοσιαλιστικο κινημα',\n",
    "                                       'συνασπισμος ριζοσπαστικης αριστερας',\n",
    "                                       'κομμουνιστικο κομμα ελλαδας',\n",
    "                                       'λαικος ορθοδοξος συναγερμος',\n",
    "                                       'ανεξαρτητοι (εκτος κομματος)',\n",
    "                                       'δημοκρατικη συμπαραταξη (πανελληνιο σοσιαλιστικο κινημα - δημοκρατικη αριστερα)',\n",
    "                                       'ανεξαρτητοι ελληνες - πανος καμμενος'])]"
   ]
  },
  {
   "cell_type": "code",
   "execution_count": 116,
   "metadata": {},
   "outputs": [],
   "source": [
    "top8NN['words'] = top8NN[\"cleaned_speech\"].apply(lambda x: len(str(x).split(' ')))"
   ]
  },
  {
   "cell_type": "code",
   "execution_count": 117,
   "metadata": {},
   "outputs": [
    {
     "data": {
      "text/plain": [
       "72"
      ]
     },
     "execution_count": 117,
     "metadata": {},
     "output_type": "execute_result"
    }
   ],
   "source": [
    "(int)(top8NN['words'].sum()/top8NN['words'].shape[0])"
   ]
  },
  {
   "cell_type": "code",
   "execution_count": 119,
   "metadata": {},
   "outputs": [
    {
     "data": {
      "text/plain": [
       "306848"
      ]
     },
     "execution_count": 119,
     "metadata": {},
     "output_type": "execute_result"
    }
   ],
   "source": [
    "maxWords = 120000\n",
    "maxSeqSpeech = (int)(top8NN['words'].sum()/top8NN['words'].shape[0])\n",
    "embDim = 128\n",
    "tokenizer = tf.keras.preprocessing.text.Tokenizer(num_words=maxWords)\n",
    "tokenizer.fit_on_texts(top8NN['cleaned_speech'].values)\n",
    "word_index = tokenizer.word_index\n",
    "len(word_index)"
   ]
  },
  {
   "cell_type": "code",
   "execution_count": 120,
   "metadata": {},
   "outputs": [],
   "source": [
    "X = tokenizer.texts_to_sequences(top8NN['cleaned_speech'].values)\n",
    "X = pad_sequences(X, maxlen=maxSeqSpeech)"
   ]
  },
  {
   "cell_type": "code",
   "execution_count": 121,
   "metadata": {},
   "outputs": [],
   "source": [
    "y = pd.get_dummies(top8NN['political_party']).values"
   ]
  },
  {
   "cell_type": "code",
   "execution_count": 122,
   "metadata": {},
   "outputs": [],
   "source": [
    "X_train, X_test, y_train, y_test = train_test_split(X, y, test_size = 0.25, random_state = 42)"
   ]
  },
  {
   "cell_type": "code",
   "execution_count": 123,
   "metadata": {},
   "outputs": [
    {
     "name": "stdout",
     "output_type": "stream",
     "text": [
      "Epoch 1/15\n",
      "1427/1427 [==============================] - 845s 590ms/step - loss: 1.5954 - accuracy: 0.4075 - val_loss: 1.4098 - val_accuracy: 0.4690\n",
      "Epoch 2/15\n",
      "1427/1427 [==============================] - 848s 594ms/step - loss: 1.3154 - accuracy: 0.5116 - val_loss: 1.3769 - val_accuracy: 0.4804\n",
      "Epoch 3/15\n",
      "1427/1427 [==============================] - 847s 594ms/step - loss: 1.1627 - accuracy: 0.5697 - val_loss: 1.4040 - val_accuracy: 0.4784\n",
      "Epoch 4/15\n",
      "1427/1427 [==============================] - 845s 593ms/step - loss: 1.0342 - accuracy: 0.6166 - val_loss: 1.5021 - val_accuracy: 0.4749\n"
     ]
    }
   ],
   "source": [
    "model = Sequential([\n",
    "                Embedding(input_dim = maxWords, output_dim = embDim, mask_zero=True),\n",
    "                LSTM(units = embDim),\n",
    "                Dropout(0.2),\n",
    "                Dense(y.shape[1], activation='softmax')])\n",
    "\n",
    "model.compile(loss='categorical_crossentropy', optimizer='adam', metrics=['accuracy'])\n",
    "\n",
    "epochs = 15\n",
    "batch_size = 256\n",
    "validation_split = 0.2\n",
    "callbacks = [EarlyStopping(monitor='val_loss', patience=2, min_delta=0.001)]\n",
    "history = model.fit(X_train, y_train, epochs=epochs, batch_size=batch_size, validation_split=validation_split, callbacks=callbacks)"
   ]
  },
  {
   "cell_type": "code",
   "execution_count": 124,
   "metadata": {},
   "outputs": [
    {
     "name": "stdout",
     "output_type": "stream",
     "text": [
      "4756/4756 [==============================] - 175s 37ms/step - loss: 1.5056 - accuracy: 0.4702\n",
      "Loss:  1.505641222000122\n",
      "Accuracy:  0.4702461063861847\n"
     ]
    }
   ],
   "source": [
    "loss, accuracy = model.evaluate(X_test,y_test)\n",
    "print(\"Loss: \", loss)\n",
    "print(\"Accuracy: \", accuracy)"
   ]
  },
  {
   "cell_type": "markdown",
   "metadata": {},
   "source": [
    "<h1>BI-LSTM top 8 parties</h1>"
   ]
  },
  {
   "cell_type": "code",
   "execution_count": 125,
   "metadata": {},
   "outputs": [
    {
     "name": "stdout",
     "output_type": "stream",
     "text": [
      "Epoch 1/15\n",
      "1427/1427 [==============================] - 1931s 1s/step - loss: 1.5793 - accuracy: 0.4116 - val_loss: 1.3952 - val_accuracy: 0.4707\n",
      "Epoch 2/15\n",
      "1427/1427 [==============================] - 2061s 1s/step - loss: 1.2901 - accuracy: 0.5190 - val_loss: 1.3641 - val_accuracy: 0.4865\n",
      "Epoch 3/15\n",
      "1427/1427 [==============================] - 2029s 1s/step - loss: 1.1396 - accuracy: 0.5764 - val_loss: 1.4213 - val_accuracy: 0.4784\n",
      "Epoch 4/15\n",
      "1427/1427 [==============================] - 1988s 1s/step - loss: 1.0119 - accuracy: 0.6235 - val_loss: 1.5004 - val_accuracy: 0.4721\n"
     ]
    }
   ],
   "source": [
    "model = Sequential([\n",
    "                Embedding(input_dim = maxWords, output_dim = embDim, mask_zero=True),\n",
    "                Dropout(0.2),\n",
    "                Bidirectional(LSTM(units = embDim)),\n",
    "                Dropout(0.2),\n",
    "                Dense(y.shape[1], activation='softmax')])\n",
    "\n",
    "model.compile(loss='categorical_crossentropy', optimizer='adam', metrics=['accuracy'])\n",
    "\n",
    "epochs = 15\n",
    "batch_size = 256\n",
    "validation_split = 0.2\n",
    "callbacks = [EarlyStopping(monitor='val_loss', patience=2, min_delta=0.001)]\n",
    "history = model.fit(X_train, y_train, epochs=epochs, batch_size=batch_size, validation_split=validation_split, callbacks=callbacks)"
   ]
  },
  {
   "cell_type": "code",
   "execution_count": 126,
   "metadata": {},
   "outputs": [
    {
     "name": "stdout",
     "output_type": "stream",
     "text": [
      "4756/4756 [==============================] - 382s 80ms/step - loss: 1.5063 - accuracy: 0.4695\n",
      "Loss:  1.5063058137893677\n",
      "Accuracy:  0.4694509208202362\n"
     ]
    }
   ],
   "source": [
    "loss, accuracy = model.evaluate(X_test,y_test)\n",
    "print(\"Loss: \", loss)\n",
    "print(\"Accuracy: \", accuracy)"
   ]
  },
  {
   "cell_type": "markdown",
   "metadata": {},
   "source": [
    "<h1> Non-Lemmatized LSTM </h1>"
   ]
  },
  {
   "cell_type": "markdown",
   "metadata": {},
   "source": [
    "As the results were not that good, I decided to test without getting the lemma of the words.  \n",
    "The process is tha same."
   ]
  },
  {
   "cell_type": "code",
   "execution_count": 79,
   "metadata": {},
   "outputs": [],
   "source": [
    "tempProceedings = pd.read_csv('Greek_Parliament_Proceedings_1989_2019.csv', encoding='utf-8', parse_dates=['sitting_date'])"
   ]
  },
  {
   "cell_type": "code",
   "execution_count": 80,
   "metadata": {},
   "outputs": [],
   "source": [
    "tempProceedings = tempProceedings[(tempProceedings['sitting_date'].dt.date >= datetime.date(year=2004,month=1,day=1))]"
   ]
  },
  {
   "cell_type": "code",
   "execution_count": 81,
   "metadata": {},
   "outputs": [],
   "source": [
    "tempProceedings = tempProceedings[tempProceedings['speech'].notna()]"
   ]
  },
  {
   "cell_type": "code",
   "execution_count": 82,
   "metadata": {},
   "outputs": [],
   "source": [
    "tempProceedings = tempProceedings[tempProceedings['political_party'].notna()]"
   ]
  },
  {
   "cell_type": "markdown",
   "metadata": {},
   "source": [
    "We remove punctuation/numbers and all non greek letters."
   ]
  },
  {
   "cell_type": "code",
   "execution_count": 83,
   "metadata": {},
   "outputs": [],
   "source": [
    "tempProceedings['speech'] = tempProceedings['speech'].str.replace('[^A-Za-zΑ-Ωα-ωίϊΐόάέύϋΰήώ ]', '').str.lower()"
   ]
  },
  {
   "cell_type": "code",
   "execution_count": 84,
   "metadata": {},
   "outputs": [],
   "source": [
    "temp = tempProceedings.copy()"
   ]
  },
  {
   "cell_type": "code",
   "execution_count": 85,
   "metadata": {},
   "outputs": [],
   "source": [
    "temp['words'] = tempProceedings[\"speech\"].apply(lambda x: len(str(x).split(' ')))"
   ]
  },
  {
   "cell_type": "code",
   "execution_count": 86,
   "metadata": {},
   "outputs": [
    {
     "data": {
      "text/plain": [
       "136"
      ]
     },
     "execution_count": 86,
     "metadata": {},
     "output_type": "execute_result"
    }
   ],
   "source": [
    "(int)(temp['words'].sum()/temp['words'].shape[0])"
   ]
  },
  {
   "cell_type": "code",
   "execution_count": 88,
   "metadata": {},
   "outputs": [
    {
     "data": {
      "text/plain": [
       "591451"
      ]
     },
     "execution_count": 88,
     "metadata": {},
     "output_type": "execute_result"
    }
   ],
   "source": [
    "maxWords = 300000\n",
    "maxSeqSpeech = (int)(temp['words'].sum()/temp['words'].shape[0])\n",
    "embDim = 128\n",
    "tokenizer = tf.keras.preprocessing.text.Tokenizer(num_words=maxWords)\n",
    "tokenizer.fit_on_texts(tempProceedings['speech'].values)\n",
    "word_index = tokenizer.word_index\n",
    "len(word_index)"
   ]
  },
  {
   "cell_type": "code",
   "execution_count": 89,
   "metadata": {},
   "outputs": [],
   "source": [
    "X = tokenizer.texts_to_sequences(tempProceedings['speech'].values)\n",
    "X = pad_sequences(X, maxlen=maxSeqSpeech)"
   ]
  },
  {
   "cell_type": "code",
   "execution_count": 90,
   "metadata": {},
   "outputs": [],
   "source": [
    "y = pd.get_dummies(tempProceedings['political_party']).values"
   ]
  },
  {
   "cell_type": "code",
   "execution_count": 91,
   "metadata": {},
   "outputs": [],
   "source": [
    "X_train, X_test, y_train, y_test = train_test_split(X, y, test_size = 0.25, random_state = 42)"
   ]
  },
  {
   "cell_type": "code",
   "execution_count": 92,
   "metadata": {},
   "outputs": [
    {
     "name": "stdout",
     "output_type": "stream",
     "text": [
      "Epoch 1/15\n",
      "1645/1645 [==============================] - 1603s 971ms/step - loss: 1.8447 - accuracy: 0.3845 - val_loss: 1.5954 - val_accuracy: 0.4465\n",
      "Epoch 2/15\n",
      "1645/1645 [==============================] - 1626s 989ms/step - loss: 1.5056 - accuracy: 0.4866 - val_loss: 1.5299 - val_accuracy: 0.4736\n",
      "Epoch 3/15\n",
      "1645/1645 [==============================] - 1590s 966ms/step - loss: 1.2998 - accuracy: 0.5590 - val_loss: 1.5655 - val_accuracy: 0.4701\n",
      "Epoch 4/15\n",
      "1645/1645 [==============================] - 1554s 945ms/step - loss: 1.1252 - accuracy: 0.6170 - val_loss: 1.6684 - val_accuracy: 0.4624\n"
     ]
    }
   ],
   "source": [
    "model = Sequential([\n",
    "                Embedding(input_dim = maxWords, output_dim = embDim, mask_zero=True),\n",
    "                LSTM(units = embDim),\n",
    "                Dropout(0.2),\n",
    "                Dense(y.shape[1], activation='softmax')])\n",
    "\n",
    "model.compile(loss='categorical_crossentropy', optimizer='adam', metrics=['accuracy'])\n",
    "\n",
    "epochs = 15\n",
    "batch_size = 256\n",
    "validation_split = 0.2\n",
    "callbacks = [EarlyStopping(monitor='val_loss', patience=2, min_delta=0.001)]\n",
    "history = model.fit(X_train, y_train, epochs=epochs, batch_size=batch_size, validation_split=validation_split, callbacks=callbacks)"
   ]
  },
  {
   "cell_type": "code",
   "execution_count": 93,
   "metadata": {},
   "outputs": [
    {
     "name": "stdout",
     "output_type": "stream",
     "text": [
      "5481/5481 [==============================] - 286s 52ms/step - loss: 1.6837 - accuracy: 0.4590\n",
      "Loss:  1.6836744546890259\n",
      "Accuracy:  0.4590301215648651\n"
     ]
    }
   ],
   "source": [
    "loss, accuracy = model.evaluate(X_test,y_test)\n",
    "print(\"Loss: \", loss)\n",
    "print(\"Accuracy: \", accuracy)"
   ]
  },
  {
   "cell_type": "markdown",
   "metadata": {},
   "source": [
    "<h1> Neural Network Conclusion</h1>"
   ]
  },
  {
   "cell_type": "markdown",
   "metadata": {},
   "source": [
    "I ran many models but all of them had ~0.45 accuracy.  \n",
    "I tried keeping top 8 parties and keeping all the speeches (non lemmatized), but the accuracy wouldn't go up.  \n",
    "I ran GRU, LSTM, BI-LSTM,stacked LSTMs and more but nothing.  \n",
    "Even adding dropout didn't ameliorate the accuracy.  \n",
    "I had tested more models than the ones shown here, but didn't include them as they had worse results.  \n",
    "Having early stopping, monitoring val_loss, surely played a major role, but I didn't want my model to overfit, as in most cases after the 3rd epoch val loss would start to increase and val_accuracy to decrease.  \n",
    "The best model I got was single LSTM with only top 8, which had an accuracy of 0.47"
   ]
  }
 ],
 "metadata": {
  "kernelspec": {
   "display_name": "Python 3",
   "language": "python",
   "name": "python3"
  },
  "language_info": {
   "codemirror_mode": {
    "name": "ipython",
    "version": 3
   },
   "file_extension": ".py",
   "mimetype": "text/x-python",
   "name": "python",
   "nbconvert_exporter": "python",
   "pygments_lexer": "ipython3",
   "version": "3.8.5"
  }
 },
 "nbformat": 4,
 "nbformat_minor": 4
}
